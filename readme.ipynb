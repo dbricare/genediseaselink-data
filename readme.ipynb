{
 "cells": [
  {
   "cell_type": "markdown",
   "metadata": {},
   "source": [
    "# genediseaselink-data\n",
    "\n",
    "### Storage location for all data files on the project at http://genediseaselink.com\n",
    "\n",
    "___\n",
    "\n",
    "Data analysis performed in Python 3 primarily on *jupyter* notebooks. \n",
    "\n",
    "Datasets are not stored on github due to file size limitations.\n",
    "\n",
    "The [Full Analysis](https://github.com/dbricare/genediseaselink-data/blob/master/Full%20Analysis.ipynb) notebook contains information on the merging and thresholding of data sets.\n",
    "\n",
    "Web scraping to collect NIH disease categories and description links is detailed in [genediseasedata-original](https://github.com/dbricare/genediseaselink-data/blob/master/genediseasedata-original.ipynb).\n",
    "\n",
    "Visualization work is detailed in [genediseasedata-visualize](https://github.com/dbricare/genediseaselink-data/blob/master/genediseasedata-visualize.ipynb).\n",
    "\n",
    "### Project is still under development.\n",
    "\n",
    "New features planned include:\n",
    "- continuous updating of the database to include the most recent results from literature,\n",
    "- factoring in contradictory results."
   ]
  },
  {
   "cell_type": "code",
   "execution_count": null,
   "metadata": {
    "collapsed": true
   },
   "outputs": [],
   "source": []
  }
 ],
 "metadata": {
  "kernelspec": {
   "display_name": "Python 3",
   "language": "python",
   "name": "python3"
  },
  "language_info": {
   "codemirror_mode": {
    "name": "ipython",
    "version": 3
   },
   "file_extension": ".py",
   "mimetype": "text/x-python",
   "name": "python",
   "nbconvert_exporter": "python",
   "pygments_lexer": "ipython3",
   "version": "3.4.3"
  }
 },
 "nbformat": 4,
 "nbformat_minor": 0
}
