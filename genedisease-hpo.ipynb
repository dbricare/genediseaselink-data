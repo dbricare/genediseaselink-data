{
 "cells": [
  {
   "cell_type": "markdown",
   "metadata": {},
   "source": [
    "# Gene Disease Associations from HPO\n",
    "\n",
    "An ontology is a computational representation of a domain of knowledge based upon a controlled, standardized vocabulary for describing entities and the semantic relationships between them.\n",
    "\n",
    "The Human Phenotype Ontology (HPO) aims to provide a standardized vocabulary of phenotypic abnormalities encountered in human disease. Each term in the HPO describes a phenotypic abnormality, such as atrial septal defect. The HPO is currently being developed using the medical literature, Orphanet, DECIPHER, and OMIM. HPO currently contains approximately 11,000 terms and over 115,000 annotations to hereditary diseases. The HPO also provides a large set of HPO annotations to approximately 4000 common diseases.\n",
    "\n",
    "http://human-phenotype-ontology.github.io/"
   ]
  },
  {
   "cell_type": "code",
   "execution_count": 1,
   "metadata": {
    "collapsed": true
   },
   "outputs": [],
   "source": [
    "import pandas as pd"
   ]
  },
  {
   "cell_type": "code",
   "execution_count": 3,
   "metadata": {
    "collapsed": false
   },
   "outputs": [],
   "source": [
    "# Tab-delimited file, malformed header\n",
    "dfhpoin = pd.read_csv('hpo_annotation/ALL_SOURCES_ALL_FREQUENCIES_diseases_to_genes_to_phenotypes.txt', \n",
    "                      sep='\\t', header=None, skiprows=1)"
   ]
  },
  {
   "cell_type": "code",
   "execution_count": 6,
   "metadata": {
    "collapsed": false
   },
   "outputs": [
    {
     "name": "stdout",
     "output_type": "stream",
     "text": [
      "(96796, 5)\n"
     ]
    },
    {
     "data": {
      "text/html": [
       "<div>\n",
       "<table border=\"1\" class=\"dataframe\">\n",
       "  <thead>\n",
       "    <tr style=\"text-align: right;\">\n",
       "      <th></th>\n",
       "      <th>gene</th>\n",
       "      <th>diseaseName</th>\n",
       "      <th>score_hpo</th>\n",
       "    </tr>\n",
       "  </thead>\n",
       "  <tbody>\n",
       "    <tr>\n",
       "      <th>0</th>\n",
       "      <td>CYP7B1</td>\n",
       "      <td>Acholic stools</td>\n",
       "      <td>1</td>\n",
       "    </tr>\n",
       "    <tr>\n",
       "      <th>1</th>\n",
       "      <td>CYP7B1</td>\n",
       "      <td>Hepatic failure</td>\n",
       "      <td>1</td>\n",
       "    </tr>\n",
       "    <tr>\n",
       "      <th>2</th>\n",
       "      <td>CYP7B1</td>\n",
       "      <td>Steatorrhea</td>\n",
       "      <td>1</td>\n",
       "    </tr>\n",
       "    <tr>\n",
       "      <th>3</th>\n",
       "      <td>CYP7B1</td>\n",
       "      <td>Pruritus</td>\n",
       "      <td>1</td>\n",
       "    </tr>\n",
       "    <tr>\n",
       "      <th>4</th>\n",
       "      <td>CYP7B1</td>\n",
       "      <td>Hepatomegaly</td>\n",
       "      <td>1</td>\n",
       "    </tr>\n",
       "  </tbody>\n",
       "</table>\n",
       "</div>"
      ],
      "text/plain": [
       "     gene      diseaseName  score_hpo\n",
       "0  CYP7B1   Acholic stools          1\n",
       "1  CYP7B1  Hepatic failure          1\n",
       "2  CYP7B1      Steatorrhea          1\n",
       "3  CYP7B1         Pruritus          1\n",
       "4  CYP7B1     Hepatomegaly          1"
      ]
     },
     "execution_count": 6,
     "metadata": {},
     "output_type": "execute_result"
    }
   ],
   "source": [
    "print(dfhpoin.shape)\n",
    "dfhpoin.head()\n",
    "dfhpo = dfhpoin[[1,4]].copy()\n",
    "dfhpo.columns=['gene','diseaseName']\n",
    "dfhpo['score_hpo'] = 1\n",
    "dfhpo.head()"
   ]
  },
  {
   "cell_type": "code",
   "execution_count": 7,
   "metadata": {
    "collapsed": false
   },
   "outputs": [],
   "source": [
    "dfhpo.to_csv('hpo.csv', sep='\\t', index=False)"
   ]
  },
  {
   "cell_type": "code",
   "execution_count": 25,
   "metadata": {
    "collapsed": false
   },
   "outputs": [
    {
     "name": "stdout",
     "output_type": "stream",
     "text": [
      "(275, 7)\n"
     ]
    },
    {
     "data": {
      "text/html": [
       "<div>\n",
       "<table border=\"1\" class=\"dataframe\">\n",
       "  <thead>\n",
       "    <tr style=\"text-align: right;\">\n",
       "      <th></th>\n",
       "      <th>diseaseName</th>\n",
       "      <th>Number of genes</th>\n",
       "      <th>score</th>\n",
       "      <th>geneSymbol</th>\n",
       "      <th>geneName</th>\n",
       "      <th>relurl</th>\n",
       "      <th>category</th>\n",
       "    </tr>\n",
       "  </thead>\n",
       "  <tbody>\n",
       "    <tr>\n",
       "      <th>0</th>\n",
       "      <td>canavan disease</td>\n",
       "      <td>4</td>\n",
       "      <td>0.839553</td>\n",
       "      <td>ASPA</td>\n",
       "      <td>aspartoacylase</td>\n",
       "      <td>/condition/canavan-disease</td>\n",
       "      <td>Brain and nervous system</td>\n",
       "    </tr>\n",
       "    <tr>\n",
       "      <th>1</th>\n",
       "      <td>cleidocranial dysplasia</td>\n",
       "      <td>3</td>\n",
       "      <td>0.763477</td>\n",
       "      <td>RUNX2</td>\n",
       "      <td>runt-related transcription factor 2</td>\n",
       "      <td>/condition/cleidocranial-dysplasia</td>\n",
       "      <td>Bones, muscles, and connective tissues</td>\n",
       "    </tr>\n",
       "    <tr>\n",
       "      <th>2</th>\n",
       "      <td>glycogen storage disease type iib</td>\n",
       "      <td>4</td>\n",
       "      <td>0.741969</td>\n",
       "      <td>LAMP2</td>\n",
       "      <td>lysosomal-associated membrane protein 2</td>\n",
       "      <td>/condition/danon-disease</td>\n",
       "      <td>Bones, muscles, and connective tissues</td>\n",
       "    </tr>\n",
       "    <tr>\n",
       "      <th>3</th>\n",
       "      <td>primary hyperoxaluria type 1</td>\n",
       "      <td>4</td>\n",
       "      <td>0.738144</td>\n",
       "      <td>AGXT</td>\n",
       "      <td>alanine-glyoxylate aminotransferase</td>\n",
       "      <td>/condition/primary-hyperoxaluria</td>\n",
       "      <td>Food, nutrition, and metabolism</td>\n",
       "    </tr>\n",
       "    <tr>\n",
       "      <th>4</th>\n",
       "      <td>mucopolysaccharidosis vii</td>\n",
       "      <td>4</td>\n",
       "      <td>0.734742</td>\n",
       "      <td>GUSB</td>\n",
       "      <td>glucuronidase, beta</td>\n",
       "      <td>/condition/mucopolysaccharidosis-type-vii</td>\n",
       "      <td>Bones, muscles, and connective tissues</td>\n",
       "    </tr>\n",
       "  </tbody>\n",
       "</table>\n",
       "</div>"
      ],
      "text/plain": [
       "                         diseaseName  Number of genes     score geneSymbol  \\\n",
       "0                    canavan disease                4  0.839553       ASPA   \n",
       "1            cleidocranial dysplasia                3  0.763477      RUNX2   \n",
       "2  glycogen storage disease type iib                4  0.741969      LAMP2   \n",
       "3       primary hyperoxaluria type 1                4  0.738144       AGXT   \n",
       "4          mucopolysaccharidosis vii                4  0.734742       GUSB   \n",
       "\n",
       "                                  geneName  \\\n",
       "0                           aspartoacylase   \n",
       "1      runt-related transcription factor 2   \n",
       "2  lysosomal-associated membrane protein 2   \n",
       "3      alanine-glyoxylate aminotransferase   \n",
       "4                      glucuronidase, beta   \n",
       "\n",
       "                                      relurl  \\\n",
       "0                 /condition/canavan-disease   \n",
       "1         /condition/cleidocranial-dysplasia   \n",
       "2                   /condition/danon-disease   \n",
       "3           /condition/primary-hyperoxaluria   \n",
       "4  /condition/mucopolysaccharidosis-type-vii   \n",
       "\n",
       "                                 category  \n",
       "0                Brain and nervous system  \n",
       "1  Bones, muscles, and connective tissues  \n",
       "2  Bones, muscles, and connective tissues  \n",
       "3         Food, nutrition, and metabolism  \n",
       "4  Bones, muscles, and connective tissues  "
      ]
     },
     "execution_count": 25,
     "metadata": {},
     "output_type": "execute_result"
    }
   ],
   "source": [
    "# Check for duplicates of disease names within present data\n",
    "\n",
    "# Load saved data\n",
    "dfsaved = pd.read_csv('GeneDiseaseMoreCats.csv')\n",
    "print(dfsaved.shape)\n",
    "dfsaved.head()"
   ]
  },
  {
   "cell_type": "code",
   "execution_count": null,
   "metadata": {
    "collapsed": true
   },
   "outputs": [],
   "source": [
    "# Use left join on geneSymbol to find same genes\n"
   ]
  }
 ],
 "metadata": {
  "kernelspec": {
   "display_name": "Python 3",
   "language": "python",
   "name": "python3"
  },
  "language_info": {
   "codemirror_mode": {
    "name": "ipython",
    "version": 3
   },
   "file_extension": ".py",
   "mimetype": "text/x-python",
   "name": "python",
   "nbconvert_exporter": "python",
   "pygments_lexer": "ipython3",
   "version": "3.4.3"
  }
 },
 "nbformat": 4,
 "nbformat_minor": 0
}
