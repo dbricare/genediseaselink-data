{
 "cells": [
  {
   "cell_type": "markdown",
   "metadata": {},
   "source": [
    "# Visualization of GDA data"
   ]
  },
  {
   "cell_type": "code",
   "execution_count": 1,
   "metadata": {
    "collapsed": true
   },
   "outputs": [],
   "source": [
    "import pandas as pd\n",
    "import numpy as np\n",
    "import matplotlib.pyplot as plt\n",
    "import matplotlib.ticker as ticker\n",
    "import matplotlib.patches as mpatches\n",
    "import matplotlib as mpl\n",
    "\n",
    "import requests\n",
    "from bs4 import BeautifulSoup\n",
    "import re\n",
    "\n",
    "%matplotlib inline"
   ]
  },
  {
   "cell_type": "markdown",
   "metadata": {},
   "source": [
    "___\n",
    "## Visualize results\n",
    "\n",
    "Load in previously saved data from csv so that above cells don't need to be rerun."
   ]
  },
  {
   "cell_type": "code",
   "execution_count": 2,
   "metadata": {
    "collapsed": false
   },
   "outputs": [
    {
     "data": {
      "text/html": [
       "<div>\n",
       "<table border=\"1\" class=\"dataframe\">\n",
       "  <thead>\n",
       "    <tr style=\"text-align: right;\">\n",
       "      <th></th>\n",
       "      <th>diseaseName</th>\n",
       "      <th>geneCount</th>\n",
       "      <th>geneSymbol</th>\n",
       "      <th>diseaseCount</th>\n",
       "      <th>associationType</th>\n",
       "      <th>score_gdn</th>\n",
       "      <th>score_hpo</th>\n",
       "      <th>score_conf</th>\n",
       "      <th>score_total</th>\n",
       "      <th>count_total</th>\n",
       "      <th>parse</th>\n",
       "      <th>category</th>\n",
       "      <th>ideal</th>\n",
       "    </tr>\n",
       "  </thead>\n",
       "  <tbody>\n",
       "    <tr>\n",
       "      <th>0</th>\n",
       "      <td>cystinuria</td>\n",
       "      <td>17</td>\n",
       "      <td>SLC3A1</td>\n",
       "      <td>18</td>\n",
       "      <td>GeneticVariation</td>\n",
       "      <td>0.767593</td>\n",
       "      <td>1</td>\n",
       "      <td>4</td>\n",
       "      <td>0.67463</td>\n",
       "      <td>0.054230</td>\n",
       "      <td>cystinuria</td>\n",
       "      <td>Kidneys and urinary system</td>\n",
       "      <td>1.000173</td>\n",
       "    </tr>\n",
       "    <tr>\n",
       "      <th>1</th>\n",
       "      <td>mucopolysaccharidosis vi</td>\n",
       "      <td>6</td>\n",
       "      <td>ARSB</td>\n",
       "      <td>16</td>\n",
       "      <td>GeneticVariation</td>\n",
       "      <td>0.837236</td>\n",
       "      <td>0</td>\n",
       "      <td>4</td>\n",
       "      <td>0.47213</td>\n",
       "      <td>0.137363</td>\n",
       "      <td>mucopolysaccharidosis vi</td>\n",
       "      <td>Bones, muscles, and connective tissues</td>\n",
       "      <td>1.011331</td>\n",
       "    </tr>\n",
       "  </tbody>\n",
       "</table>\n",
       "</div>"
      ],
      "text/plain": [
       "                diseaseName  geneCount geneSymbol  diseaseCount  \\\n",
       "0                cystinuria         17     SLC3A1            18   \n",
       "1  mucopolysaccharidosis vi          6       ARSB            16   \n",
       "\n",
       "    associationType  score_gdn  score_hpo  score_conf  score_total  \\\n",
       "0  GeneticVariation   0.767593          1           4      0.67463   \n",
       "1  GeneticVariation   0.837236          0           4      0.47213   \n",
       "\n",
       "   count_total                     parse  \\\n",
       "0     0.054230                cystinuria   \n",
       "1     0.137363  mucopolysaccharidosis vi   \n",
       "\n",
       "                                 category     ideal  \n",
       "0              Kidneys and urinary system  1.000173  \n",
       "1  Bones, muscles, and connective tissues  1.011331  "
      ]
     },
     "execution_count": 2,
     "metadata": {},
     "output_type": "execute_result"
    }
   ],
   "source": [
    "# Generate plot data\n",
    "# dfall = pd.read_csv('../genediseaselink-web/GeneDiseaseMoreCats.csv')\n",
    "dfall = pd.read_csv('GDAallthreehigh.tsv',sep='\\t')\n",
    "dfall.fillna(value='Not Available', inplace=True)\n",
    "yy = dfall['count_total']\n",
    "xx = dfall['score_total']\n",
    "# print(dfall.category.unique())\n",
    "dfall.head(2)"
   ]
  },
  {
   "cell_type": "markdown",
   "metadata": {},
   "source": [
    "## Refine data visualization\n",
    "\n",
    "In general points in the bottom right of the rudimentary graph above are the ideal targets for drug development. Two points stand out in particular 'Canavan disease' and 'Cleidocranial Dysplasia'.\n",
    "\n",
    "To get more detailed information, the graph will be refocused on the clustered points between scores of 0.70 and 0.75. Also incidence rate information and disease category will be inserted."
   ]
  },
  {
   "cell_type": "code",
   "execution_count": 3,
   "metadata": {
    "collapsed": false
   },
   "outputs": [],
   "source": [
    "# Generate colors for graphs\n",
    "\n",
    "colorseq = ['#1f77b4', '#aec7e8', '#ff7f0e', '#ffbb78', '#2ca02c',\n",
    "            '#98df8a', '#d62728', '#ff9896', '#9467bd', '#c5b0d5',\n",
    "            '#8c564b', '#c49c94', '#e377c2', '#f7b6d2', '#7f7f7f',\n",
    "            '#c7c7c7', '#bcbd22', '#dbdb8d', '#17becf', '#9edae5']\n",
    "\n",
    "colordark = colorseq[0::2]\n",
    "colorlight = colorseq[1::2]\n",
    "clrdrklt = colordark.copy()\n",
    "clrdrklt.extend(colorlight)\n",
    "\n",
    "# # plt.rc('font', size='18')\n",
    "\n",
    "\n",
    "# fig, ax = plt.subplots(1, figsize=(16,6))\n",
    "# ax.scatter(xx,yy, c=colorseq[0], s=250, alpha=1)\n",
    "# ax.yaxis.set_ticks(np.arange(0,5,1))\n",
    "# ax.set_ylim(0,5)\n",
    "# ax.xaxis.set_ticks(np.arange(0.7,0.9,0.05))\n",
    "# ax.set_xlim(0.7, 0.85)\n",
    "# ax.set_xlabel('Score')\n",
    "# ax.set_ylabel('Number of genes')\n",
    "# ax.xaxis.set_major_formatter(ticker.FormatStrFormatter('%0.1f'))\n",
    "\n",
    "# plt.grid(True)\n",
    "\n",
    "# plt.show()"
   ]
  },
  {
   "cell_type": "code",
   "execution_count": 4,
   "metadata": {
    "collapsed": false,
    "scrolled": false
   },
   "outputs": [
    {
     "name": "stdout",
     "output_type": "stream",
     "text": [
      "{'Mouth and teeth': '#17becf', 'Lungs and breathing': '#bcbd22', 'Kidneys and urinary system': '#7f7f7f', 'Skin, hair, and nails': '#98df8a', 'Eyes and vision': '#8c564b', 'Reproductive system': '#ffbb78', 'Ear, nose, and throat': '#9467bd', 'Food, nutrition, and metabolism': '#e377c2', 'Bones, muscles, and connective tissues': '#ff7f0e', 'Blood/lymphatic system': '#1f77b4', 'Not Available': '#eeeeee', 'Digestive system': '#d62728', 'Brain and nervous system': '#2ca02c'}\n"
     ]
    }
   ],
   "source": [
    "# Zoom in on clustered regions, larger points have identified disease\n",
    "# Also color code data points based on disease category\n",
    "\n",
    "# ptsize = 250\n",
    "# areaidx = 1 # areaidx = incididx\n",
    "# areas = (areaidx*ptsize)+ptsize\n",
    "# colors = [colorseq[1-b] for b in incididx]\n",
    "\n",
    "# Define unique categories and assign color code\n",
    "\n",
    "uniqcat = sorted(dfall['category'].unique())\n",
    "catclr = dict(zip(uniqcat,clrdrklt[:len(uniqcat)]))\n",
    "catclr['Not Available'] = '#eeeeee'\n",
    "print(catclr)\n",
    "\n",
    "\n",
    "# catclr = {'Brain and nervous system': '#9467bd', 'Eyes and vision': '#7f7f7f', \n",
    "#           'Digestive system': '#aec7e8', 'Blood/lymphatic system': '#17becf', \n",
    "#           'Mouth and teeth': '#98df8a', 'Cancers': '#ff9896', 'Lungs and breathing': '#bcbd22', \n",
    "#           'Ear, nose, and throat': '#ffbb78', 'Kidneys and urinary system': '#1f77b4', \n",
    "#           'Food, nutrition, and metabolism': '#2ca02c', 'Bones, muscles, and connective tissues': '#ff7f0e', \n",
    "#           'Reproductive system': '#e377c2', 'Not Available': '#eeeeee', 'Skin, hair, and nails': '#d62728'}\n",
    "\n",
    "\n",
    "# plt.rc('font', size='20')\n",
    "\n",
    "# Scatter points for better readability\n",
    "# np.random.seed(1)\n",
    "# rndm = (np.random.random(yy.shape) - 0.5) * 0.8\n",
    "\n",
    "# Assign colors for data points\n",
    "# colors = [catclr[cat] for cat in dfall['category']]\n",
    "\n",
    "# # Create plot\n",
    "# fig, ax = plt.subplots(1, figsize=(20,10))\n",
    "# ax.scatter(xx,yy+rndm, c=colors, s=areas, alpha=1)\n",
    "# ax.yaxis.set_ticks(np.arange(0,5,1))\n",
    "# ax.set_ylim(0.5,4.5)\n",
    "# ax.xaxis.set_ticks(np.arange(0.7,0.85,0.01))\n",
    "# ax.set_xlim(0.719, 0.85)\n",
    "# ax.set_xlabel('Score')\n",
    "# ax.set_ylabel('Number of genes')\n",
    "# ax.yaxis.set_minor_locator(ticker.AutoMinorLocator(2))\n",
    "\n",
    "# # Create legend\n",
    "# patches = []\n",
    "# for lbl in uniqcat:\n",
    "#     patches.append(mpatches.Patch(color=catclr[lbl], label=lbl))\n",
    "# ax.legend(handles=patches, loc='lower right', fontsize='18')\n",
    "\n",
    "# ax.grid(True, which='both')\n",
    "# ax.grid(color='k', linestyle='solid', which='minor', axis='y', linewidth=0.5)\n",
    "\n",
    "# # ax.title()\n",
    "\n",
    "\n",
    "# plt.show()"
   ]
  },
  {
   "cell_type": "code",
   "execution_count": 5,
   "metadata": {
    "collapsed": false
   },
   "outputs": [
    {
     "data": {
      "text/plain": [
       "array(['Kidneys and urinary system',\n",
       "       'Bones, muscles, and connective tissues',\n",
       "       'Food, nutrition, and metabolism', 'Brain and nervous system',\n",
       "       'Skin, hair, and nails', 'Not Available', 'Reproductive system',\n",
       "       'Eyes and vision', 'Lungs and breathing', 'Digestive system',\n",
       "       'Ear, nose, and throat', 'Blood/lymphatic system', 'Mouth and teeth'], dtype=object)"
      ]
     },
     "execution_count": 5,
     "metadata": {},
     "output_type": "execute_result"
    }
   ],
   "source": [
    "dfall.category.unique()"
   ]
  },
  {
   "cell_type": "markdown",
   "metadata": {},
   "source": [
    "## Repeat plot but with Bokeh\n",
    "Bokeh has <b>zoom</b>, <b>resize</b> and <b>mouse-over</b> functionality built-in."
   ]
  },
  {
   "cell_type": "code",
   "execution_count": 13,
   "metadata": {
    "collapsed": true
   },
   "outputs": [],
   "source": [
    "from bokeh.plotting import figure, output_notebook, save, show, ColumnDataSource, output_file\n",
    "from bokeh.charts import Scatter\n",
    "from bokeh.models import HoverTool, Range1d, OpenURL, TapTool\n",
    "from collections import OrderedDict"
   ]
  },
  {
   "cell_type": "code",
   "execution_count": 14,
   "metadata": {
    "collapsed": false
   },
   "outputs": [
    {
     "data": {
      "text/html": [
       "\n",
       "\n",
       "    <script type=\"text/javascript\">\n",
       "      \n",
       "      (function(global) {\n",
       "        function now() {\n",
       "          return new Date();\n",
       "        }\n",
       "      \n",
       "        if (typeof (window._bokeh_onload_callbacks) === \"undefined\") {\n",
       "          window._bokeh_onload_callbacks = [];\n",
       "        }\n",
       "      \n",
       "        function run_callbacks() {\n",
       "          window._bokeh_onload_callbacks.forEach(function(callback) { callback() });\n",
       "          delete window._bokeh_onload_callbacks\n",
       "          console.info(\"Bokeh: all callbacks have finished\");\n",
       "        }\n",
       "      \n",
       "        function load_libs(js_urls, callback) {\n",
       "          window._bokeh_onload_callbacks.push(callback);\n",
       "          if (window._bokeh_is_loading > 0) {\n",
       "            console.log(\"Bokeh: BokehJS is being loaded, scheduling callback at\", now());\n",
       "            return null;\n",
       "          }\n",
       "          if (js_urls == null || js_urls.length === 0) {\n",
       "            run_callbacks();\n",
       "            return null;\n",
       "          }\n",
       "          console.log(\"Bokeh: BokehJS not loaded, scheduling load and callback at\", now());\n",
       "          window._bokeh_is_loading = js_urls.length;\n",
       "          for (var i = 0; i < js_urls.length; i++) {\n",
       "            var url = js_urls[i];\n",
       "            var s = document.createElement('script');\n",
       "            s.src = url;\n",
       "            s.async = false;\n",
       "            s.onreadystatechange = s.onload = function() {\n",
       "              window._bokeh_is_loading--;\n",
       "              if (window._bokeh_is_loading === 0) {\n",
       "                console.log(\"Bokeh: all BokehJS libraries loaded\");\n",
       "                run_callbacks()\n",
       "              }\n",
       "            };\n",
       "            s.onerror = function() {\n",
       "              console.warn(\"failed to load library \" + url);\n",
       "            };\n",
       "            console.log(\"Bokeh: injecting script tag for BokehJS library: \", url);\n",
       "            document.getElementsByTagName(\"head\")[0].appendChild(s);\n",
       "          }\n",
       "        };var js_urls = ['https://cdn.pydata.org/bokeh/release/bokeh-0.11.0.min.js', 'https://cdn.pydata.org/bokeh/release/bokeh-widgets-0.11.0.min.js', 'https://cdn.pydata.org/bokeh/release/bokeh-compiler-0.11.0.min.js'];\n",
       "      \n",
       "        var inline_js = [\n",
       "          function(Bokeh) {\n",
       "            Bokeh.set_log_level(\"info\");\n",
       "          },\n",
       "          function(Bokeh) {\n",
       "            console.log(\"Bokeh: injecting CSS: https://cdn.pydata.org/bokeh/release/bokeh-0.11.0.min.css\");\n",
       "            Bokeh.embed.inject_css(\"https://cdn.pydata.org/bokeh/release/bokeh-0.11.0.min.css\");\n",
       "            console.log(\"Bokeh: injecting CSS: https://cdn.pydata.org/bokeh/release/bokeh-widgets-0.11.0.min.css\");\n",
       "            Bokeh.embed.inject_css(\"https://cdn.pydata.org/bokeh/release/bokeh-widgets-0.11.0.min.css\");\n",
       "          }\n",
       "        ];\n",
       "      \n",
       "        function run_inline_js() {\n",
       "          for (var i = 0; i < inline_js.length; i++) {\n",
       "            inline_js[i](window.Bokeh);\n",
       "          }\n",
       "        }\n",
       "      \n",
       "        if (window._bokeh_is_loading === 0) {\n",
       "          console.log(\"Bokeh: BokehJS loaded, going straight to plotting\");\n",
       "          run_inline_js();\n",
       "        } else {\n",
       "          load_libs(js_urls, function() {\n",
       "            console.log(\"Bokeh: BokehJS plotting callback run at\", now());\n",
       "            run_inline_js();\n",
       "          });\n",
       "        }\n",
       "      }(this));\n",
       "    </script>\n",
       "    <div>\n",
       "        <a href=\"http://bokeh.pydata.org\" target=\"_blank\" class=\"bk-logo bk-logo-small bk-logo-notebook\"></a>\n",
       "        <span>BokehJS successfully loaded.</span>\n",
       "    </div>"
      ]
     },
     "metadata": {},
     "output_type": "display_data"
    }
   ],
   "source": [
    "output_notebook()"
   ]
  },
  {
   "cell_type": "code",
   "execution_count": 8,
   "metadata": {
    "collapsed": false
   },
   "outputs": [
    {
     "data": {
      "text/plain": [
       "count    56.000000\n",
       "mean      1.181153\n",
       "std       0.144102\n",
       "min       0.728367\n",
       "25%       1.113297\n",
       "50%       1.212501\n",
       "75%       1.302130\n",
       "max       1.347990\n",
       "Name: ideal, dtype: float64"
      ]
     },
     "execution_count": 8,
     "metadata": {},
     "output_type": "execute_result"
    }
   ],
   "source": [
    "dfall.ideal.describe()"
   ]
  },
  {
   "cell_type": "code",
   "execution_count": 9,
   "metadata": {
    "collapsed": false
   },
   "outputs": [
    {
     "name": "stdout",
     "output_type": "stream",
     "text": [
      "0.912863924123\n"
     ]
    }
   ],
   "source": [
    "cirrad = np.percentile(dfall['ideal'],5)\n",
    "print(cirrad)"
   ]
  },
  {
   "cell_type": "code",
   "execution_count": 17,
   "metadata": {
    "collapsed": false,
    "scrolled": false
   },
   "outputs": [
    {
     "data": {
      "text/html": [
       "\n",
       "\n",
       "    <div class=\"plotdiv\" id=\"1eb7e81e-8f38-4efa-91a6-7122a6f6f523\"></div>\n",
       "<script type=\"text/javascript\">\n",
       "  \n",
       "  (function(global) {\n",
       "    function now() {\n",
       "      return new Date();\n",
       "    }\n",
       "  \n",
       "    if (typeof (window._bokeh_onload_callbacks) === \"undefined\") {\n",
       "      window._bokeh_onload_callbacks = [];\n",
       "    }\n",
       "  \n",
       "    function run_callbacks() {\n",
       "      window._bokeh_onload_callbacks.forEach(function(callback) { callback() });\n",
       "      delete window._bokeh_onload_callbacks\n",
       "      console.info(\"Bokeh: all callbacks have finished\");\n",
       "    }\n",
       "  \n",
       "    function load_libs(js_urls, callback) {\n",
       "      window._bokeh_onload_callbacks.push(callback);\n",
       "      if (window._bokeh_is_loading > 0) {\n",
       "        console.log(\"Bokeh: BokehJS is being loaded, scheduling callback at\", now());\n",
       "        return null;\n",
       "      }\n",
       "      if (js_urls == null || js_urls.length === 0) {\n",
       "        run_callbacks();\n",
       "        return null;\n",
       "      }\n",
       "      console.log(\"Bokeh: BokehJS not loaded, scheduling load and callback at\", now());\n",
       "      window._bokeh_is_loading = js_urls.length;\n",
       "      for (var i = 0; i < js_urls.length; i++) {\n",
       "        var url = js_urls[i];\n",
       "        var s = document.createElement('script');\n",
       "        s.src = url;\n",
       "        s.async = false;\n",
       "        s.onreadystatechange = s.onload = function() {\n",
       "          window._bokeh_is_loading--;\n",
       "          if (window._bokeh_is_loading === 0) {\n",
       "            console.log(\"Bokeh: all BokehJS libraries loaded\");\n",
       "            run_callbacks()\n",
       "          }\n",
       "        };\n",
       "        s.onerror = function() {\n",
       "          console.warn(\"failed to load library \" + url);\n",
       "        };\n",
       "        console.log(\"Bokeh: injecting script tag for BokehJS library: \", url);\n",
       "        document.getElementsByTagName(\"head\")[0].appendChild(s);\n",
       "      }\n",
       "    };var element = document.getElementById(\"1eb7e81e-8f38-4efa-91a6-7122a6f6f523\");\n",
       "    if (element == null) {\n",
       "      console.log(\"Bokeh: ERROR: autoload.js configured with elementid '1eb7e81e-8f38-4efa-91a6-7122a6f6f523' but no matching script tag was found. \")\n",
       "      return false;\n",
       "    }var js_urls = [];\n",
       "  \n",
       "    var inline_js = [\n",
       "      function(Bokeh) {\n",
       "        Bokeh.$(function() {\n",
       "            var docs_json = {\"e02e446d-8420-4186-be03-f371ff0b04e7\": {\"roots\": {\"root_ids\": [\"b967876e-b4ea-428c-b424-79a234411d15\", \"fff0d626-fc0a-4ede-b3ae-4d8d398c10ef\", \"ffcc441a-9a6a-497a-9df2-072f2e82ac43\", \"35a32d43-028e-40e1-a233-e0ce112e6bcf\", \"b6dcae8b-b414-499d-a5d3-9a59691569ac\"], \"references\": [{\"id\": \"b967876e-b4ea-428c-b424-79a234411d15\", \"subtype\": \"Figure\", \"attributes\": {\"plot_width\": 900, \"tools\": [{\"id\": \"46e9fa64-c2f4-4069-b915-981cc30b674a\", \"type\": \"HoverTool\"}, {\"id\": \"40916fbe-c9d7-4f21-a9e9-6c5416326e29\", \"type\": \"BoxZoomTool\"}, {\"id\": \"fad906bd-d75d-4f5e-9239-fbd42b2c93b3\", \"type\": \"PanTool\"}, {\"id\": \"d7b2af30-5383-47f2-bade-3cc702d9fea1\", \"type\": \"ResetTool\"}, {\"id\": \"5b9d10e4-5a99-4680-a91c-59db38c93786\", \"type\": \"PreviewSaveTool\"}, {\"id\": \"d176658a-d3d4-4c7c-90f0-79bd514f3e5d\", \"type\": \"TapTool\"}], \"left\": [{\"id\": \"46caf2c7-b433-44ae-b81c-4497b4d3cc77\", \"type\": \"LinearAxis\"}], \"renderers\": [{\"id\": \"ab43bc92-be9b-4dda-b185-fe8e630d0809\", \"type\": \"LinearAxis\"}, {\"id\": \"d989fa26-86ee-4088-af7b-45f9697874eb\", \"type\": \"Grid\"}, {\"id\": \"46caf2c7-b433-44ae-b81c-4497b4d3cc77\", \"type\": \"LinearAxis\"}, {\"id\": \"02fdaa9d-f613-4baf-88b7-99de0e6078e3\", \"type\": \"Grid\"}, {\"id\": \"ab62a9aa-ebb7-4d59-9458-0d66912dbe31\", \"type\": \"BoxAnnotation\"}, {\"id\": \"448699a5-cbd0-44ed-9039-f105623c4a57\", \"type\": \"Legend\"}, {\"id\": \"a2bde9cf-861c-4107-82c4-12833bc0760d\", \"type\": \"GlyphRenderer\"}], \"tool_events\": {\"id\": \"331dfbdc-0139-48cc-b7cc-96dbe8e071ba\", \"type\": \"ToolEvents\"}, \"title_text_font\": \"Source Sans Pro\", \"x_range\": {\"id\": \"9905f528-fb93-4dfb-b062-c2981ce8c6a1\", \"type\": \"Range1d\"}, \"below\": [{\"id\": \"ab43bc92-be9b-4dda-b185-fe8e630d0809\", \"type\": \"LinearAxis\"}], \"y_range\": {\"id\": \"36cbd9b1-75d2-4609-b4b5-9783ed0cf8bd\", \"type\": \"Range1d\"}}, \"type\": \"Plot\"}, {\"id\": \"a1dfb855-7ba6-4c14-b0e6-75cd7ebb5504\", \"attributes\": {\"ticker\": {\"id\": \"c6512b5b-5dae-4bfd-aa0d-b4cf16b79214\", \"type\": \"BasicTicker\"}, \"formatter\": {\"id\": \"498a442a-0ca8-4b0a-b475-9e27d0660d4f\", \"type\": \"BasicTickFormatter\"}, \"axis_label\": \"Specificity Score\", \"axis_label_text_font\": \"Source Sans Pro\", \"plot\": {\"id\": \"35a32d43-028e-40e1-a233-e0ce112e6bcf\", \"subtype\": \"Figure\", \"type\": \"Plot\"}}, \"type\": \"LinearAxis\"}, {\"id\": \"82386aba-d54c-474a-acbc-464f6b67b309\", \"attributes\": {\"plot\": {\"id\": \"b6dcae8b-b414-499d-a5d3-9a59691569ac\", \"subtype\": \"Figure\", \"type\": \"Plot\"}}, \"type\": \"ResetTool\"}, {\"id\": \"0e0b6739-6084-4caf-a5f8-0ed355c37b07\", \"attributes\": {\"plot\": {\"id\": \"35a32d43-028e-40e1-a233-e0ce112e6bcf\", \"subtype\": \"Figure\", \"type\": \"Plot\"}, \"ticker\": {\"id\": \"589e3f1f-78af-4ba2-8c12-f3ace71d9be9\", \"type\": \"BasicTicker\"}}, \"type\": \"Grid\"}, {\"id\": \"34fe3f62-9f21-4964-a1bf-2662b1209e1c\", \"attributes\": {}, \"type\": \"BasicTickFormatter\"}, {\"id\": \"8184ff78-bd56-4e3d-836c-715487ea37f4\", \"attributes\": {}, \"type\": \"BasicTickFormatter\"}, {\"id\": \"44464932-ce78-4256-92a7-8f1c00b54dfe\", \"attributes\": {\"line_alpha\": {\"value\": 0.1}, \"y\": {\"field\": \"y\"}, \"line_color\": {\"value\": \"#1f77b4\"}, \"fill_alpha\": {\"value\": 0.1}, \"size\": {\"units\": \"screen\", \"value\": 20}, \"x\": {\"field\": \"x\"}, \"fill_color\": {\"value\": \"#1f77b4\"}}, \"type\": \"Circle\"}, {\"id\": \"8ba2168e-8910-4ed4-8ac7-e1a2206b34d4\", \"attributes\": {\"line_alpha\": {\"value\": 0.1}, \"y\": {\"field\": \"y\"}, \"line_color\": {\"value\": \"#1f77b4\"}, \"fill_alpha\": {\"value\": 0.1}, \"size\": {\"units\": \"screen\", \"value\": 20}, \"x\": {\"field\": \"x\"}, \"fill_color\": {\"value\": \"#1f77b4\"}}, \"type\": \"Circle\"}, {\"id\": \"ef718a7e-10ae-4b36-ba65-eb4e3aabd512\", \"attributes\": {\"plot\": {\"id\": \"fff0d626-fc0a-4ede-b3ae-4d8d398c10ef\", \"subtype\": \"Figure\", \"type\": \"Plot\"}, \"legends\": [[\"top_right\", [{\"id\": \"176d9307-3016-4885-891a-a5ce418eba0c\", \"type\": \"GlyphRenderer\"}]]]}, \"type\": \"Legend\"}, {\"id\": \"1636b41c-e4a6-4df2-aa4b-242186c896d3\", \"attributes\": {\"ticker\": {\"id\": \"589e3f1f-78af-4ba2-8c12-f3ace71d9be9\", \"type\": \"BasicTicker\"}, \"formatter\": {\"id\": \"34fe3f62-9f21-4964-a1bf-2662b1209e1c\", \"type\": \"BasicTickFormatter\"}, \"axis_label\": \"Association Score\", \"axis_label_text_font\": \"Source Sans Pro\", \"plot\": {\"id\": \"35a32d43-028e-40e1-a233-e0ce112e6bcf\", \"subtype\": \"Figure\", \"type\": \"Plot\"}}, \"type\": \"LinearAxis\"}, {\"id\": \"d989fa26-86ee-4088-af7b-45f9697874eb\", \"attributes\": {\"plot\": {\"id\": \"b967876e-b4ea-428c-b424-79a234411d15\", \"subtype\": \"Figure\", \"type\": \"Plot\"}, \"ticker\": {\"id\": \"83140f0a-3113-46ae-ba38-602736546ba7\", \"type\": \"BasicTicker\"}}, \"type\": \"Grid\"}, {\"id\": \"9bf818f1-d964-479a-9883-2ae50c42fde3\", \"attributes\": {\"callback\": null, \"end\": 0.8}, \"type\": \"Range1d\"}, {\"id\": \"10254917-97ff-45b3-9265-f41d9c68555d\", \"attributes\": {\"ticker\": {\"id\": \"41f61e37-25cd-41fc-95e7-20a11de12c91\", \"type\": \"BasicTicker\"}, \"formatter\": {\"id\": \"24a4fe07-7381-4a5c-986e-89ea341edac8\", \"type\": \"BasicTickFormatter\"}, \"axis_label\": \"Specificity Score\", \"axis_label_text_font\": \"Source Sans Pro\", \"plot\": {\"id\": \"ffcc441a-9a6a-497a-9df2-072f2e82ac43\", \"subtype\": \"Figure\", \"type\": \"Plot\"}}, \"type\": \"LinearAxis\"}, {\"id\": \"eec59015-f191-4b99-b858-abfc4aba20e1\", \"attributes\": {\"plot\": {\"id\": \"b6dcae8b-b414-499d-a5d3-9a59691569ac\", \"subtype\": \"Figure\", \"type\": \"Plot\"}}, \"type\": \"PanTool\"}, {\"id\": \"448699a5-cbd0-44ed-9039-f105623c4a57\", \"attributes\": {\"plot\": {\"id\": \"b967876e-b4ea-428c-b424-79a234411d15\", \"subtype\": \"Figure\", \"type\": \"Plot\"}, \"legends\": [[\"top_right\", [{\"id\": \"a2bde9cf-861c-4107-82c4-12833bc0760d\", \"type\": \"GlyphRenderer\"}]]]}, \"type\": \"Legend\"}, {\"id\": \"85e0e90c-dcef-4131-8ff2-fcd93627da69\", \"attributes\": {\"plot\": {\"id\": \"fff0d626-fc0a-4ede-b3ae-4d8d398c10ef\", \"subtype\": \"Figure\", \"type\": \"Plot\"}}, \"type\": \"PanTool\"}, {\"id\": \"02fdaa9d-f613-4baf-88b7-99de0e6078e3\", \"attributes\": {\"plot\": {\"id\": \"b967876e-b4ea-428c-b424-79a234411d15\", \"subtype\": \"Figure\", \"type\": \"Plot\"}, \"dimension\": 1, \"ticker\": {\"id\": \"86c6da4c-ef02-4c50-bbd6-68e99be4e285\", \"type\": \"BasicTicker\"}}, \"type\": \"Grid\"}, {\"id\": \"48248c22-bec3-4cf2-ad6d-c0fa3c5d3811\", \"attributes\": {\"callback\": null, \"end\": 0.8}, \"type\": \"Range1d\"}, {\"id\": \"a2bde9cf-861c-4107-82c4-12833bc0760d\", \"attributes\": {\"data_source\": {\"id\": \"60ca8ade-54f8-4e99-a64f-94fcd62bb569\", \"type\": \"ColumnDataSource\"}, \"hover_glyph\": null, \"selection_glyph\": null, \"glyph\": {\"id\": \"2a4c94ef-6ec3-483b-aa47-4d60a116d5ff\", \"type\": \"Circle\"}, \"nonselection_glyph\": {\"id\": \"8ba2168e-8910-4ed4-8ac7-e1a2206b34d4\", \"type\": \"Circle\"}, \"name\": \"pts\"}, \"type\": \"GlyphRenderer\"}, {\"id\": \"15b3b309-aa17-465c-a73b-3a2245e51f01\", \"attributes\": {\"plot\": {\"id\": \"35a32d43-028e-40e1-a233-e0ce112e6bcf\", \"subtype\": \"Figure\", \"type\": \"Plot\"}, \"dimension\": 1, \"ticker\": {\"id\": \"c6512b5b-5dae-4bfd-aa0d-b4cf16b79214\", \"type\": \"BasicTicker\"}}, \"type\": \"Grid\"}, {\"id\": \"c4a63e23-ba8f-44b5-8b6c-1e9f83f6262f\", \"attributes\": {\"callback\": null, \"end\": 0.8}, \"type\": \"Range1d\"}, {\"id\": \"67118c0b-6c9d-4114-b487-75f5c213790f\", \"attributes\": {}, \"type\": \"ToolEvents\"}, {\"id\": \"af22a749-abdf-45b3-9361-95e7dfd9982c\", \"attributes\": {\"tooltips\": [[\"Disease\", \"@desc\"], [\"Category\", \"@cat\"], [\"Gene\", \"@desc2\"], [\"Type\", \"@assoc\"], [\"Strength\", \"@x{0.000}\"], [\"Frequency\", \"@y{0.000}\"]], \"names\": [\"pts\"], \"callback\": null, \"plot\": {\"id\": \"ffcc441a-9a6a-497a-9df2-072f2e82ac43\", \"subtype\": \"Figure\", \"type\": \"Plot\"}}, \"type\": \"HoverTool\"}, {\"id\": \"9ccacd28-bb05-44af-bf0b-66bd7780bed2\", \"attributes\": {}, \"type\": \"BasicTickFormatter\"}, {\"id\": \"2e2b29ba-34c5-4ff3-94c9-bffa59bc9607\", \"attributes\": {}, \"type\": \"ToolEvents\"}, {\"id\": \"40916fbe-c9d7-4f21-a9e9-6c5416326e29\", \"attributes\": {\"overlay\": {\"id\": \"ab62a9aa-ebb7-4d59-9458-0d66912dbe31\", \"type\": \"BoxAnnotation\"}, \"plot\": {\"id\": \"b967876e-b4ea-428c-b424-79a234411d15\", \"subtype\": \"Figure\", \"type\": \"Plot\"}}, \"type\": \"BoxZoomTool\"}, {\"id\": \"5af2fcb0-8d9b-4203-9730-8e4f319a0fb8\", \"attributes\": {\"plot\": {\"id\": \"ffcc441a-9a6a-497a-9df2-072f2e82ac43\", \"subtype\": \"Figure\", \"type\": \"Plot\"}}, \"type\": \"ResetTool\"}, {\"id\": \"82961cb4-4b8e-43fc-aed6-1c68084a1033\", \"attributes\": {\"line_alpha\": {\"value\": 1.0}, \"plot\": null, \"bottom_units\": \"screen\", \"render_mode\": \"css\", \"fill_alpha\": {\"value\": 0.5}, \"fill_color\": {\"value\": \"lightgrey\"}, \"left_units\": \"screen\", \"right_units\": \"screen\", \"line_width\": {\"value\": 2}, \"level\": \"overlay\", \"line_color\": {\"value\": \"black\"}, \"top_units\": \"screen\", \"line_dash\": [4, 4]}, \"type\": \"BoxAnnotation\"}, {\"id\": \"90498728-344c-43ce-b911-4be40297fcdc\", \"attributes\": {\"callback\": null, \"plot\": {\"id\": \"35a32d43-028e-40e1-a233-e0ce112e6bcf\", \"subtype\": \"Figure\", \"type\": \"Plot\"}}, \"type\": \"TapTool\"}, {\"id\": \"d7b2af30-5383-47f2-bade-3cc702d9fea1\", \"attributes\": {\"plot\": {\"id\": \"b967876e-b4ea-428c-b424-79a234411d15\", \"subtype\": \"Figure\", \"type\": \"Plot\"}}, \"type\": \"ResetTool\"}, {\"id\": \"daff7ffb-e813-4852-9d52-c48fd6edbfe6\", \"attributes\": {\"ticker\": {\"id\": \"390b12fa-e9f8-41fc-bf4f-826e977bf2aa\", \"type\": \"BasicTicker\"}, \"formatter\": {\"id\": \"1e13b4cf-b70d-4a8c-b646-3390d2372400\", \"type\": \"BasicTickFormatter\"}, \"axis_label\": \"Association Score\", \"axis_label_text_font\": \"Source Sans Pro\", \"plot\": {\"id\": \"fff0d626-fc0a-4ede-b3ae-4d8d398c10ef\", \"subtype\": \"Figure\", \"type\": \"Plot\"}}, \"type\": \"LinearAxis\"}, {\"id\": \"9e498cd9-175c-44bb-82fa-440373579271\", \"attributes\": {\"overlay\": {\"id\": \"f8c9641a-33cb-4b3a-ad11-ecc57c81e0c1\", \"type\": \"BoxAnnotation\"}, \"plot\": {\"id\": \"ffcc441a-9a6a-497a-9df2-072f2e82ac43\", \"subtype\": \"Figure\", \"type\": \"Plot\"}}, \"type\": \"BoxZoomTool\"}, {\"id\": \"07f1ebe9-4079-4c84-9171-628f9f04b7bc\", \"attributes\": {\"callback\": null, \"end\": 0.8}, \"type\": \"Range1d\"}, {\"id\": \"41f61e37-25cd-41fc-95e7-20a11de12c91\", \"attributes\": {}, \"type\": \"BasicTicker\"}, {\"id\": \"d7923135-fb75-47bd-898d-b357de0bde72\", \"attributes\": {\"data\": {\"assoc\": [\"GeneticVariation\", \"GeneticVariation\", \"GeneticVariation\", \"GeneticVariation\", \"GeneticVariation\", \"GeneticVariation\", \"GeneticVariation\", \"GeneticVariation\", \"GeneticVariation\", \"GeneticVariation\", \"GeneticVariation\", \"GeneticVariation\", \"GeneticVariation\", \"GeneticVariation\", \"GeneticVariation\", \"GeneticVariation\", \"GeneticVariation\", \"GeneticVariation\", \"GeneticVariation\", \"AlteredExpression\", \"GeneticVariation\", \"GeneticVariation\", \"GeneticVariation\", \"GeneticVariation\", \"GeneticVariation\", \"GeneticVariation\", \"GeneticVariation\", \"GeneticVariation\", \"GeneticVariation\", \"AlteredExpression\", \"GeneticVariation\", \"GeneticVariation\", \"GeneticVariation\", \"GeneticVariation\", \"GeneticVariation\", \"GeneticVariation\", \"GeneticVariation\", \"AlteredExpression\", \"GeneticVariation\", \"GeneticVariation\", \"GeneticVariation\", \"GeneticVariation\", \"GeneticVariation\", \"GeneticVariation\", \"GeneticVariation\", \"GeneticVariation\", \"GeneticVariation\", \"GeneticVariation\", \"GeneticVariation\", \"GeneticVariation\", \"GeneticVariation\", \"GeneticVariation\", \"GeneticVariation\", \"GeneticVariation\", \"GeneticVariation\", \"GeneticVariation\"], \"genes\": [17, 6, 1, 10, 5, 1, 2, 8, 13, 5, 1, 3, 1, 2, 10, 2, 2, 6, 4, 13, 9, 7, 5, 8, 1, 3, 4, 5, 4, 4, 6, 12, 1, 9, 6, 9, 8, 11, 3, 10, 4, 7, 9, 11, 7, 10, 6, 6, 6, 5, 1, 2, 1, 5, 4, 4], \"desc\": [\"cystinuria\", \"mucopolysaccharidosis vi\", \"alkaptonuria\", \"cherubism\", \"ellis-van creveld syndrome\", \"alpha-mannosidosis\", \"guanidinoacetate methyltransferase deficiency\", \"acrodermatitis enteropathica\", \"polycystic liver disease\", \"acrocallosal syndrome\", \"peroxisomal acyl-coa oxidase deficiency\", \"fructose intolerance\", \"l-2-hydroxyglutaric aciduria\", \"globozoospermia\", \"propionic acidemia\", \"occult macular dystrophy\", \"pulmonary alveolar microlithiasis\", \"monilethrix\", \"brown-vialetto-van laere syndrome\", \"maple syrup urine disease\", \"chylomicron retention disease\", \"roberts syndrome\", \"erythrokeratodermia variabilis\", \"enlarged vestibular aqueduct\", \"fucosidosis\", \"holocarboxylase synthetase deficiency\", \"reticular dysgenesis\", \"mulibrey nanism\", \"megalocornea\", \"brody myopathy\", \"meier-gorlin syndrome\", \"cystinosis\", \"pontocerebellar hypoplasia type 2a\", \"leukodystrophy, globoid cell\", \"porphyria, erythropoietic\", \"norrie disease\", \"neuraminidase deficiency with beta-galactosidase deficiency\", \"schimke immunoosseous dysplasia\", \"triglyceride storage disease with impaired long-chain fatty acid oxidation\", \"ocular albinism type 1\", \"giant axonal neuropathy\", \"fraser syndrome\", \"usher syndrome, type iiia\", \"glycogen storage disease type vii\", \"ethylmalonic encephalopathy\", \"hypercholesterolemia, autosomal recessive\", \"cleft palate x-linked\", \"pyogenic arthritis, pyoderma gangrenosum, and acne\", \"multiple sulfatase deficiency disease\", \"short chain acyl coa dehydrogenase deficiency\", \"johanson blizzard syndrome\", \"ectodermal dysplasia, hypohidrotic, autosomal recessive\", \"charcot-marie-tooth disease, type 4c\", \"renal tubular acidosis, distal, autosomal recessive\", \"rhizomelic chondrodysplasia punctata, type 1\", \"charcot-marie-tooth disease, type 4b1\"], \"x\": [0.6746297667614041, 0.4721301909008804, 0.3273673141233069, 0.3218511742420309, 0.31351613988127713, 0.31315978317570514, 0.3087938127962617, 0.306453595971967, 0.2883659703794421, 0.21208762559252506, 0.1887938127962616, 0.187354858080226, 0.17638143838878673, 0.16800000000000015, 0.16764431516636025, 0.16407215758318028, 0.16288143838878688, 0.15895359597196698, 0.1561752511850485, 0.15461706298586742, 0.14986597037944205, 0.1427628767775737, 0.14077834478691842, 0.13848453199065516, 0.13248453199065535, 0.13089690639813156, 0.1245876255925249, 0.11938930834005745, 0.0993969063981317, 0.09696906398131168, 0.07919071919439348, 0.053636717108287435, 0.04089690639813148, 0.0397806054999692, 0.02859858301025975, 0.02282282341492681, 0.01712884715701546, 0.016731940758885292, 0.016335034360753786, 0.015144315166360169, 0.013953595971966992, 0.012762876777573595, 0.012762876777573595, 0.012434613721479026, 0.012365970379442093, 0.012365970379442093, 0.0119690639813117, 0.0119690639813117, 0.011572157583180198, 0.011572157583180198, 0.011175251185048474, 0.010778344786918082, 0.0103814383887868, 0.0103814383887868, 0.0103814383887868, 0.0103814383887868], \"y\": [0.054229934924078085, 0.13736263736263735, 0.43859649122807015, 0.09328358208955224, 0.16778523489932887, 0.7575757575757576, 0.3787878787878788, 0.10593220338983053, 0.07246376811594203, 0.15723270440251572, 0.5555555555555556, 0.2380952380952381, 0.6097560975609756, 0.4310344827586207, 0.09541984732824428, 0.4032258064516129, 0.390625, 0.14705882352941174, 0.1865671641791045, 0.0708215297450425, 0.10373443983402487, 0.12195121951219512, 0.16129032258064516, 0.11904761904761905, 0.7142857142857143, 0.2577319587628866, 0.23148148148148145, 0.1592356687898089, 0.21929824561403508, 0.1984126984126984, 0.15060240963855426, 0.07530120481927711, 0.43859649122807015, 0.09881422924901184, 0.15060240963855426, 0.09578544061302682, 0.10593220338983053, 0.08143322475570032, 0.22123893805309736, 0.09124087591240876, 0.1865671641791045, 0.13089005235602094, 0.09881422924901184, 0.08250825082508251, 0.1295336787564767, 0.08928571428571429, 0.1404494382022472, 0.13440860215053765, 0.1524390243902439, 0.16778523489932887, 0.5555555555555556, 0.3125, 0.4545454545454545, 0.15337423312883436, 0.1953125, 0.1923076923076923], \"desc2\": [\"SLC3A1\", \"ARSB\", \"HGD\", \"SH3BP2\", \"EVC\", \"MAN2B1\", \"GAMT\", \"SLC39A4\", \"SEC63\", \"KIF7\", \"ACOX1\", \"ALDOB\", \"L2HGDH\", \"SPATA16\", \"PCCB\", \"RP1L1\", \"SLC34A2\", \"KRT86\", \"SLC52A3\", \"BCKDHB\", \"SAR1B\", \"ESCO2\", \"GJB4\", \"FOXI1\", \"FUCA1\", \"HLCS\", \"AK2\", \"TRIM37\", \"CHRDL1\", \"ATP2A1\", \"ORC1\", \"CTNS\", \"TSEN54\", \"GALC\", \"UROS\", \"NDP\", \"CTSA\", \"SMARCAL1\", \"ABHD5\", \"GPR143\", \"GAN\", \"FREM2\", \"CLRN1\", \"PFKM\", \"ETHE1\", \"LDLRAP1\", \"TBX22\", \"PSTPIP1\", \"SUMF1\", \"ACADS\", \"UBR1\", \"EDAR\", \"SH3TC2\", \"ATP6V0A4\", \"PEX7\", \"MTMR2\"], \"fill_color\": [\"#7f7f7f\", \"#ff7f0e\", \"#ff7f0e\", \"#ff7f0e\", \"#ff7f0e\", \"#e377c2\", \"#2ca02c\", \"#98df8a\", \"#e377c2\", \"#eeeeee\", \"#2ca02c\", \"#e377c2\", \"#e377c2\", \"#ffbb78\", \"#e377c2\", \"#8c564b\", \"#bcbd22\", \"#98df8a\", \"#ff7f0e\", \"#2ca02c\", \"#d62728\", \"#eeeeee\", \"#98df8a\", \"#9467bd\", \"#2ca02c\", \"#2ca02c\", \"#ff7f0e\", \"#eeeeee\", \"#8c564b\", \"#ff7f0e\", \"#ff7f0e\", \"#ff7f0e\", \"#2ca02c\", \"#1f77b4\", \"#1f77b4\", \"#8c564b\", \"#e377c2\", \"#ff7f0e\", \"#ff7f0e\", \"#8c564b\", \"#2ca02c\", \"#eeeeee\", \"#9467bd\", \"#e377c2\", \"#1f77b4\", \"#e377c2\", \"#17becf\", \"#98df8a\", \"#ff7f0e\", \"#e377c2\", \"#eeeeee\", \"#ff7f0e\", \"#ff7f0e\", \"#7f7f7f\", \"#ff7f0e\", \"#ff7f0e\"], \"cat\": [\"Kidneys and urinary system\", \"Bones, muscles, and connective tissues\", \"Bones, muscles, and connective tissues\", \"Bones, muscles, and connective tissues\", \"Bones, muscles, and connective tissues\", \"Food, nutrition, and metabolism\", \"Brain and nervous system\", \"Skin, hair, and nails\", \"Food, nutrition, and metabolism\", \"Not Available\", \"Brain and nervous system\", \"Food, nutrition, and metabolism\", \"Food, nutrition, and metabolism\", \"Reproductive system\", \"Food, nutrition, and metabolism\", \"Eyes and vision\", \"Lungs and breathing\", \"Skin, hair, and nails\", \"Bones, muscles, and connective tissues\", \"Brain and nervous system\", \"Digestive system\", \"Not Available\", \"Skin, hair, and nails\", \"Ear, nose, and throat\", \"Brain and nervous system\", \"Brain and nervous system\", \"Bones, muscles, and connective tissues\", \"Not Available\", \"Eyes and vision\", \"Bones, muscles, and connective tissues\", \"Bones, muscles, and connective tissues\", \"Bones, muscles, and connective tissues\", \"Brain and nervous system\", \"Blood/lymphatic system\", \"Blood/lymphatic system\", \"Eyes and vision\", \"Food, nutrition, and metabolism\", \"Bones, muscles, and connective tissues\", \"Bones, muscles, and connective tissues\", \"Eyes and vision\", \"Brain and nervous system\", \"Not Available\", \"Ear, nose, and throat\", \"Food, nutrition, and metabolism\", \"Blood/lymphatic system\", \"Food, nutrition, and metabolism\", \"Mouth and teeth\", \"Skin, hair, and nails\", \"Bones, muscles, and connective tissues\", \"Food, nutrition, and metabolism\", \"Not Available\", \"Bones, muscles, and connective tissues\", \"Bones, muscles, and connective tissues\", \"Kidneys and urinary system\", \"Bones, muscles, and connective tissues\", \"Bones, muscles, and connective tissues\"]}, \"callback\": null, \"column_names\": [\"assoc\", \"genes\", \"x\", \"y\", \"desc2\", \"desc\", \"cat\", \"fill_color\"]}, \"type\": \"ColumnDataSource\"}, {\"id\": \"7e766c92-3a82-409c-94d4-4ad68b1a9898\", \"attributes\": {\"plot\": {\"id\": \"ffcc441a-9a6a-497a-9df2-072f2e82ac43\", \"subtype\": \"Figure\", \"type\": \"Plot\"}, \"dimension\": 1, \"ticker\": {\"id\": \"41f61e37-25cd-41fc-95e7-20a11de12c91\", \"type\": \"BasicTicker\"}}, \"type\": \"Grid\"}, {\"id\": \"18ddd097-025d-449b-b9fe-45de40b7d1e6\", \"attributes\": {}, \"type\": \"BasicTicker\"}, {\"id\": \"94e9c033-f5d2-4d62-8b77-0ec89bd34e77\", \"attributes\": {\"callback\": null, \"end\": 0.8}, \"type\": \"Range1d\"}, {\"id\": \"07e83075-e533-4f0e-9107-2ec62f366ea0\", \"attributes\": {\"ticker\": {\"id\": \"8891459d-0979-4a58-a1e8-12679bf3c4dc\", \"type\": \"BasicTicker\"}, \"formatter\": {\"id\": \"15da6823-d13a-447f-b585-5ac4865636fc\", \"type\": \"BasicTickFormatter\"}, \"axis_label\": \"Specificity Score\", \"axis_label_text_font\": \"Source Sans Pro\", \"plot\": {\"id\": \"fff0d626-fc0a-4ede-b3ae-4d8d398c10ef\", \"subtype\": \"Figure\", \"type\": \"Plot\"}}, \"type\": \"LinearAxis\"}, {\"id\": \"71ecd369-2d8f-443c-a92a-7e43f26e3a7d\", \"attributes\": {}, \"type\": \"BasicTickFormatter\"}, {\"id\": \"ffcc441a-9a6a-497a-9df2-072f2e82ac43\", \"subtype\": \"Figure\", \"attributes\": {\"plot_width\": 900, \"tools\": [{\"id\": \"af22a749-abdf-45b3-9361-95e7dfd9982c\", \"type\": \"HoverTool\"}, {\"id\": \"9e498cd9-175c-44bb-82fa-440373579271\", \"type\": \"BoxZoomTool\"}, {\"id\": \"8b0276a3-134c-405a-bbeb-debca1c85fac\", \"type\": \"PanTool\"}, {\"id\": \"5af2fcb0-8d9b-4203-9730-8e4f319a0fb8\", \"type\": \"ResetTool\"}, {\"id\": \"1aa207c9-f176-47c9-8299-52673bc7ba59\", \"type\": \"PreviewSaveTool\"}, {\"id\": \"0a66feac-e430-471d-8438-d5574828e32b\", \"type\": \"TapTool\"}], \"left\": [{\"id\": \"10254917-97ff-45b3-9265-f41d9c68555d\", \"type\": \"LinearAxis\"}], \"renderers\": [{\"id\": \"242bf199-d2ed-4663-a3d3-617ab63a6500\", \"type\": \"LinearAxis\"}, {\"id\": \"16406c8d-cbe4-491b-bd03-fa23e7c71f48\", \"type\": \"Grid\"}, {\"id\": \"10254917-97ff-45b3-9265-f41d9c68555d\", \"type\": \"LinearAxis\"}, {\"id\": \"7e766c92-3a82-409c-94d4-4ad68b1a9898\", \"type\": \"Grid\"}, {\"id\": \"f8c9641a-33cb-4b3a-ad11-ecc57c81e0c1\", \"type\": \"BoxAnnotation\"}], \"tool_events\": {\"id\": \"619b2352-a4ea-401c-9924-f16742c24bf8\", \"type\": \"ToolEvents\"}, \"title_text_font\": \"Source Sans Pro\", \"x_range\": {\"id\": \"9bf818f1-d964-479a-9883-2ae50c42fde3\", \"type\": \"Range1d\"}, \"below\": [{\"id\": \"242bf199-d2ed-4663-a3d3-617ab63a6500\", \"type\": \"LinearAxis\"}], \"y_range\": {\"id\": \"9ecd26d9-c634-445b-b9ac-01fb0b460643\", \"type\": \"Range1d\"}}, \"type\": \"Plot\"}, {\"id\": \"36cbd9b1-75d2-4609-b4b5-9783ed0cf8bd\", \"attributes\": {\"callback\": null, \"end\": 0.8}, \"type\": \"Range1d\"}, {\"id\": \"155915af-ea8c-4c83-9a8b-da5d2159d02a\", \"attributes\": {\"plot\": {\"id\": \"fff0d626-fc0a-4ede-b3ae-4d8d398c10ef\", \"subtype\": \"Figure\", \"type\": \"Plot\"}, \"dimension\": 1, \"ticker\": {\"id\": \"8891459d-0979-4a58-a1e8-12679bf3c4dc\", \"type\": \"BasicTicker\"}}, \"type\": \"Grid\"}, {\"id\": \"11b70fe2-e382-49f1-abd9-770e98e57792\", \"attributes\": {\"plot\": {\"id\": \"35a32d43-028e-40e1-a233-e0ce112e6bcf\", \"subtype\": \"Figure\", \"type\": \"Plot\"}}, \"type\": \"PanTool\"}, {\"id\": \"d176658a-d3d4-4c7c-90f0-79bd514f3e5d\", \"attributes\": {\"callback\": {\"id\": \"e13f0c8b-1dcc-4ad9-88cd-3950be8361b6\", \"type\": \"OpenURL\"}, \"plot\": {\"id\": \"b967876e-b4ea-428c-b424-79a234411d15\", \"subtype\": \"Figure\", \"type\": \"Plot\"}}, \"type\": \"TapTool\"}, {\"id\": \"86c6da4c-ef02-4c50-bbd6-68e99be4e285\", \"attributes\": {}, \"type\": \"BasicTicker\"}, {\"id\": \"550488f7-dabd-486b-9efb-731267853086\", \"attributes\": {\"plot\": {\"id\": \"b6dcae8b-b414-499d-a5d3-9a59691569ac\", \"subtype\": \"Figure\", \"type\": \"Plot\"}}, \"type\": \"PreviewSaveTool\"}, {\"id\": \"8891459d-0979-4a58-a1e8-12679bf3c4dc\", \"attributes\": {}, \"type\": \"BasicTicker\"}, {\"id\": \"498a442a-0ca8-4b0a-b475-9e27d0660d4f\", \"attributes\": {}, \"type\": \"BasicTickFormatter\"}, {\"id\": \"83140f0a-3113-46ae-ba38-602736546ba7\", \"attributes\": {}, \"type\": \"BasicTicker\"}, {\"id\": \"390b12fa-e9f8-41fc-bf4f-826e977bf2aa\", \"attributes\": {}, \"type\": \"BasicTicker\"}, {\"id\": \"15da6823-d13a-447f-b585-5ac4865636fc\", \"attributes\": {}, \"type\": \"BasicTickFormatter\"}, {\"id\": \"bad25725-650e-48eb-9320-dd3d50a03fb8\", \"attributes\": {\"url\": \"http://www.ncbi.nlm.nih.gov/pubmed/?term=@desc+@desc2\"}, \"type\": \"OpenURL\"}, {\"id\": \"176d9307-3016-4885-891a-a5ce418eba0c\", \"attributes\": {\"data_source\": {\"id\": \"d7923135-fb75-47bd-898d-b357de0bde72\", \"type\": \"ColumnDataSource\"}, \"hover_glyph\": null, \"selection_glyph\": null, \"glyph\": {\"id\": \"808846a2-5ba5-42bc-bb8c-df61846c51c6\", \"type\": \"Circle\"}, \"nonselection_glyph\": {\"id\": \"44464932-ce78-4256-92a7-8f1c00b54dfe\", \"type\": \"Circle\"}, \"name\": \"pts\"}, \"type\": \"GlyphRenderer\"}, {\"id\": \"c5f1a79a-6a47-4156-9f0a-748862d68000\", \"attributes\": {\"callback\": null, \"end\": 0.8}, \"type\": \"Range1d\"}, {\"id\": \"a2fca2b9-d743-4706-ab5c-9bdfb4ee3d32\", \"attributes\": {\"data_source\": {\"id\": \"8cdb74fb-ed01-495f-8bfe-9fc1efbc8ea8\", \"type\": \"ColumnDataSource\"}, \"hover_glyph\": null, \"selection_glyph\": null, \"glyph\": {\"id\": \"ef3c3fd2-bc33-43ae-80c8-3542dc631c5b\", \"type\": \"Circle\"}, \"nonselection_glyph\": {\"id\": \"435e7966-9e5f-4268-826b-58191db04e76\", \"type\": \"Circle\"}, \"name\": \"pts\"}, \"type\": \"GlyphRenderer\"}, {\"id\": \"00582ba2-731d-49d4-9ba8-daab8c55c255\", \"attributes\": {\"line_alpha\": {\"value\": 1.0}, \"plot\": null, \"bottom_units\": \"screen\", \"render_mode\": \"css\", \"fill_alpha\": {\"value\": 0.5}, \"fill_color\": {\"value\": \"lightgrey\"}, \"left_units\": \"screen\", \"right_units\": \"screen\", \"line_width\": {\"value\": 2}, \"level\": \"overlay\", \"line_color\": {\"value\": \"black\"}, \"top_units\": \"screen\", \"line_dash\": [4, 4]}, \"type\": \"BoxAnnotation\"}, {\"id\": \"fb750821-d9e5-4d6d-bbc8-4de392dc23d9\", \"attributes\": {\"tooltips\": [[\"Disease\", \"@desc\"], [\"Category\", \"@cat\"], [\"Gene\", \"@desc2\"], [\"Type\", \"@assoc\"], [\"Strength\", \"@x{0.000}\"], [\"Frequency\", \"@y{0.000}\"]], \"names\": [\"pts\"], \"callback\": null, \"plot\": {\"id\": \"fff0d626-fc0a-4ede-b3ae-4d8d398c10ef\", \"subtype\": \"Figure\", \"type\": \"Plot\"}}, \"type\": \"HoverTool\"}, {\"id\": \"fad906bd-d75d-4f5e-9239-fbd42b2c93b3\", \"attributes\": {\"plot\": {\"id\": \"b967876e-b4ea-428c-b424-79a234411d15\", \"subtype\": \"Figure\", \"type\": \"Plot\"}}, \"type\": \"PanTool\"}, {\"id\": \"242bf199-d2ed-4663-a3d3-617ab63a6500\", \"attributes\": {\"ticker\": {\"id\": \"5ff8e3b3-0004-431b-8a76-be767189999f\", \"type\": \"BasicTicker\"}, \"formatter\": {\"id\": \"9ccacd28-bb05-44af-bf0b-66bd7780bed2\", \"type\": \"BasicTickFormatter\"}, \"axis_label\": \"Association Score\", \"axis_label_text_font\": \"Source Sans Pro\", \"plot\": {\"id\": \"ffcc441a-9a6a-497a-9df2-072f2e82ac43\", \"subtype\": \"Figure\", \"type\": \"Plot\"}}, \"type\": \"LinearAxis\"}, {\"id\": \"8cdb74fb-ed01-495f-8bfe-9fc1efbc8ea8\", \"attributes\": {\"data\": {\"assoc\": [\"GeneticVariation\", \"GeneticVariation\", \"GeneticVariation\", \"GeneticVariation\", \"GeneticVariation\", \"GeneticVariation\", \"GeneticVariation\", \"GeneticVariation\", \"GeneticVariation\", \"GeneticVariation\", \"GeneticVariation\", \"GeneticVariation\", \"GeneticVariation\", \"GeneticVariation\", \"GeneticVariation\", \"GeneticVariation\", \"GeneticVariation\", \"GeneticVariation\", \"GeneticVariation\", \"AlteredExpression\", \"GeneticVariation\", \"GeneticVariation\", \"GeneticVariation\", \"GeneticVariation\", \"GeneticVariation\", \"GeneticVariation\", \"GeneticVariation\", \"GeneticVariation\", \"GeneticVariation\", \"AlteredExpression\", \"GeneticVariation\", \"GeneticVariation\", \"GeneticVariation\", \"GeneticVariation\", \"GeneticVariation\", \"GeneticVariation\", \"GeneticVariation\", \"AlteredExpression\", \"GeneticVariation\", \"GeneticVariation\", \"GeneticVariation\", \"GeneticVariation\", \"GeneticVariation\", \"GeneticVariation\", \"GeneticVariation\", \"GeneticVariation\", \"GeneticVariation\", \"GeneticVariation\", \"GeneticVariation\", \"GeneticVariation\", \"GeneticVariation\", \"GeneticVariation\", \"GeneticVariation\", \"GeneticVariation\", \"GeneticVariation\", \"GeneticVariation\"], \"genes\": [17, 6, 1, 10, 5, 1, 2, 8, 13, 5, 1, 3, 1, 2, 10, 2, 2, 6, 4, 13, 9, 7, 5, 8, 1, 3, 4, 5, 4, 4, 6, 12, 1, 9, 6, 9, 8, 11, 3, 10, 4, 7, 9, 11, 7, 10, 6, 6, 6, 5, 1, 2, 1, 5, 4, 4], \"desc\": [\"cystinuria\", \"mucopolysaccharidosis vi\", \"alkaptonuria\", \"cherubism\", \"ellis-van creveld syndrome\", \"alpha-mannosidosis\", \"guanidinoacetate methyltransferase deficiency\", \"acrodermatitis enteropathica\", \"polycystic liver disease\", \"acrocallosal syndrome\", \"peroxisomal acyl-coa oxidase deficiency\", \"fructose intolerance\", \"l-2-hydroxyglutaric aciduria\", \"globozoospermia\", \"propionic acidemia\", \"occult macular dystrophy\", \"pulmonary alveolar microlithiasis\", \"monilethrix\", \"brown-vialetto-van laere syndrome\", \"maple syrup urine disease\", \"chylomicron retention disease\", \"roberts syndrome\", \"erythrokeratodermia variabilis\", \"enlarged vestibular aqueduct\", \"fucosidosis\", \"holocarboxylase synthetase deficiency\", \"reticular dysgenesis\", \"mulibrey nanism\", \"megalocornea\", \"brody myopathy\", \"meier-gorlin syndrome\", \"cystinosis\", \"pontocerebellar hypoplasia type 2a\", \"leukodystrophy, globoid cell\", \"porphyria, erythropoietic\", \"norrie disease\", \"neuraminidase deficiency with beta-galactosidase deficiency\", \"schimke immunoosseous dysplasia\", \"triglyceride storage disease with impaired long-chain fatty acid oxidation\", \"ocular albinism type 1\", \"giant axonal neuropathy\", \"fraser syndrome\", \"usher syndrome, type iiia\", \"glycogen storage disease type vii\", \"ethylmalonic encephalopathy\", \"hypercholesterolemia, autosomal recessive\", \"cleft palate x-linked\", \"pyogenic arthritis, pyoderma gangrenosum, and acne\", \"multiple sulfatase deficiency disease\", \"short chain acyl coa dehydrogenase deficiency\", \"johanson blizzard syndrome\", \"ectodermal dysplasia, hypohidrotic, autosomal recessive\", \"charcot-marie-tooth disease, type 4c\", \"renal tubular acidosis, distal, autosomal recessive\", \"rhizomelic chondrodysplasia punctata, type 1\", \"charcot-marie-tooth disease, type 4b1\"], \"x\": [0.6746297667614041, 0.4721301909008804, 0.3273673141233069, 0.3218511742420309, 0.31351613988127713, 0.31315978317570514, 0.3087938127962617, 0.306453595971967, 0.2883659703794421, 0.21208762559252506, 0.1887938127962616, 0.187354858080226, 0.17638143838878673, 0.16800000000000015, 0.16764431516636025, 0.16407215758318028, 0.16288143838878688, 0.15895359597196698, 0.1561752511850485, 0.15461706298586742, 0.14986597037944205, 0.1427628767775737, 0.14077834478691842, 0.13848453199065516, 0.13248453199065535, 0.13089690639813156, 0.1245876255925249, 0.11938930834005745, 0.0993969063981317, 0.09696906398131168, 0.07919071919439348, 0.053636717108287435, 0.04089690639813148, 0.0397806054999692, 0.02859858301025975, 0.02282282341492681, 0.01712884715701546, 0.016731940758885292, 0.016335034360753786, 0.015144315166360169, 0.013953595971966992, 0.012762876777573595, 0.012762876777573595, 0.012434613721479026, 0.012365970379442093, 0.012365970379442093, 0.0119690639813117, 0.0119690639813117, 0.011572157583180198, 0.011572157583180198, 0.011175251185048474, 0.010778344786918082, 0.0103814383887868, 0.0103814383887868, 0.0103814383887868, 0.0103814383887868], \"y\": [0.054229934924078085, 0.13736263736263735, 0.43859649122807015, 0.09328358208955224, 0.16778523489932887, 0.7575757575757576, 0.3787878787878788, 0.10593220338983053, 0.07246376811594203, 0.15723270440251572, 0.5555555555555556, 0.2380952380952381, 0.6097560975609756, 0.4310344827586207, 0.09541984732824428, 0.4032258064516129, 0.390625, 0.14705882352941174, 0.1865671641791045, 0.0708215297450425, 0.10373443983402487, 0.12195121951219512, 0.16129032258064516, 0.11904761904761905, 0.7142857142857143, 0.2577319587628866, 0.23148148148148145, 0.1592356687898089, 0.21929824561403508, 0.1984126984126984, 0.15060240963855426, 0.07530120481927711, 0.43859649122807015, 0.09881422924901184, 0.15060240963855426, 0.09578544061302682, 0.10593220338983053, 0.08143322475570032, 0.22123893805309736, 0.09124087591240876, 0.1865671641791045, 0.13089005235602094, 0.09881422924901184, 0.08250825082508251, 0.1295336787564767, 0.08928571428571429, 0.1404494382022472, 0.13440860215053765, 0.1524390243902439, 0.16778523489932887, 0.5555555555555556, 0.3125, 0.4545454545454545, 0.15337423312883436, 0.1953125, 0.1923076923076923], \"desc2\": [\"SLC3A1\", \"ARSB\", \"HGD\", \"SH3BP2\", \"EVC\", \"MAN2B1\", \"GAMT\", \"SLC39A4\", \"SEC63\", \"KIF7\", \"ACOX1\", \"ALDOB\", \"L2HGDH\", \"SPATA16\", \"PCCB\", \"RP1L1\", \"SLC34A2\", \"KRT86\", \"SLC52A3\", \"BCKDHB\", \"SAR1B\", \"ESCO2\", \"GJB4\", \"FOXI1\", \"FUCA1\", \"HLCS\", \"AK2\", \"TRIM37\", \"CHRDL1\", \"ATP2A1\", \"ORC1\", \"CTNS\", \"TSEN54\", \"GALC\", \"UROS\", \"NDP\", \"CTSA\", \"SMARCAL1\", \"ABHD5\", \"GPR143\", \"GAN\", \"FREM2\", \"CLRN1\", \"PFKM\", \"ETHE1\", \"LDLRAP1\", \"TBX22\", \"PSTPIP1\", \"SUMF1\", \"ACADS\", \"UBR1\", \"EDAR\", \"SH3TC2\", \"ATP6V0A4\", \"PEX7\", \"MTMR2\"], \"fill_color\": [\"#7f7f7f\", \"#ff7f0e\", \"#ff7f0e\", \"#ff7f0e\", \"#ff7f0e\", \"#e377c2\", \"#2ca02c\", \"#98df8a\", \"#e377c2\", \"#eeeeee\", \"#2ca02c\", \"#e377c2\", \"#e377c2\", \"#ffbb78\", \"#e377c2\", \"#8c564b\", \"#bcbd22\", \"#98df8a\", \"#ff7f0e\", \"#2ca02c\", \"#d62728\", \"#eeeeee\", \"#98df8a\", \"#9467bd\", \"#2ca02c\", \"#2ca02c\", \"#ff7f0e\", \"#eeeeee\", \"#8c564b\", \"#ff7f0e\", \"#ff7f0e\", \"#ff7f0e\", \"#2ca02c\", \"#1f77b4\", \"#1f77b4\", \"#8c564b\", \"#e377c2\", \"#ff7f0e\", \"#ff7f0e\", \"#8c564b\", \"#2ca02c\", \"#eeeeee\", \"#9467bd\", \"#e377c2\", \"#1f77b4\", \"#e377c2\", \"#17becf\", \"#98df8a\", \"#ff7f0e\", \"#e377c2\", \"#eeeeee\", \"#ff7f0e\", \"#ff7f0e\", \"#7f7f7f\", \"#ff7f0e\", \"#ff7f0e\"], \"cat\": [\"Kidneys and urinary system\", \"Bones, muscles, and connective tissues\", \"Bones, muscles, and connective tissues\", \"Bones, muscles, and connective tissues\", \"Bones, muscles, and connective tissues\", \"Food, nutrition, and metabolism\", \"Brain and nervous system\", \"Skin, hair, and nails\", \"Food, nutrition, and metabolism\", \"Not Available\", \"Brain and nervous system\", \"Food, nutrition, and metabolism\", \"Food, nutrition, and metabolism\", \"Reproductive system\", \"Food, nutrition, and metabolism\", \"Eyes and vision\", \"Lungs and breathing\", \"Skin, hair, and nails\", \"Bones, muscles, and connective tissues\", \"Brain and nervous system\", \"Digestive system\", \"Not Available\", \"Skin, hair, and nails\", \"Ear, nose, and throat\", \"Brain and nervous system\", \"Brain and nervous system\", \"Bones, muscles, and connective tissues\", \"Not Available\", \"Eyes and vision\", \"Bones, muscles, and connective tissues\", \"Bones, muscles, and connective tissues\", \"Bones, muscles, and connective tissues\", \"Brain and nervous system\", \"Blood/lymphatic system\", \"Blood/lymphatic system\", \"Eyes and vision\", \"Food, nutrition, and metabolism\", \"Bones, muscles, and connective tissues\", \"Bones, muscles, and connective tissues\", \"Eyes and vision\", \"Brain and nervous system\", \"Not Available\", \"Ear, nose, and throat\", \"Food, nutrition, and metabolism\", \"Blood/lymphatic system\", \"Food, nutrition, and metabolism\", \"Mouth and teeth\", \"Skin, hair, and nails\", \"Bones, muscles, and connective tissues\", \"Food, nutrition, and metabolism\", \"Not Available\", \"Bones, muscles, and connective tissues\", \"Bones, muscles, and connective tissues\", \"Kidneys and urinary system\", \"Bones, muscles, and connective tissues\", \"Bones, muscles, and connective tissues\"]}, \"callback\": null, \"column_names\": [\"assoc\", \"genes\", \"x\", \"y\", \"desc2\", \"desc\", \"cat\", \"fill_color\"]}, \"type\": \"ColumnDataSource\"}, {\"id\": \"3f378c5b-9c43-406e-8abf-966af27629ee\", \"attributes\": {\"callback\": null, \"end\": 0.8}, \"type\": \"Range1d\"}, {\"id\": \"0a66feac-e430-471d-8438-d5574828e32b\", \"attributes\": {\"callback\": null, \"plot\": {\"id\": \"ffcc441a-9a6a-497a-9df2-072f2e82ac43\", \"subtype\": \"Figure\", \"type\": \"Plot\"}}, \"type\": \"TapTool\"}, {\"id\": \"fa4e8079-a74f-4968-b9b6-44d1db2672ad\", \"attributes\": {\"overlay\": {\"id\": \"00582ba2-731d-49d4-9ba8-daab8c55c255\", \"type\": \"BoxAnnotation\"}, \"plot\": {\"id\": \"fff0d626-fc0a-4ede-b3ae-4d8d398c10ef\", \"subtype\": \"Figure\", \"type\": \"Plot\"}}, \"type\": \"BoxZoomTool\"}, {\"id\": \"808846a2-5ba5-42bc-bb8c-df61846c51c6\", \"attributes\": {\"y\": {\"field\": \"y\"}, \"line_color\": {\"value\": \"#000000\"}, \"x\": {\"field\": \"x\"}, \"size\": {\"units\": \"screen\", \"value\": 20}, \"fill_alpha\": {\"value\": 0.8}, \"fill_color\": {\"field\": \"fill_color\"}}, \"type\": \"Circle\"}, {\"id\": \"435e7966-9e5f-4268-826b-58191db04e76\", \"attributes\": {\"line_alpha\": {\"value\": 0.1}, \"y\": {\"field\": \"y\"}, \"line_color\": {\"value\": \"#1f77b4\"}, \"fill_alpha\": {\"value\": 0.1}, \"size\": {\"units\": \"screen\", \"value\": 20}, \"x\": {\"field\": \"x\"}, \"fill_color\": {\"value\": \"#1f77b4\"}}, \"type\": \"Circle\"}, {\"id\": \"e0466d64-d075-49cb-8b4d-1e826ce9643c\", \"attributes\": {\"plot\": {\"id\": \"fff0d626-fc0a-4ede-b3ae-4d8d398c10ef\", \"subtype\": \"Figure\", \"type\": \"Plot\"}, \"ticker\": {\"id\": \"390b12fa-e9f8-41fc-bf4f-826e977bf2aa\", \"type\": \"BasicTicker\"}}, \"type\": \"Grid\"}, {\"id\": \"16406c8d-cbe4-491b-bd03-fa23e7c71f48\", \"attributes\": {\"plot\": {\"id\": \"ffcc441a-9a6a-497a-9df2-072f2e82ac43\", \"subtype\": \"Figure\", \"type\": \"Plot\"}, \"ticker\": {\"id\": \"5ff8e3b3-0004-431b-8a76-be767189999f\", \"type\": \"BasicTicker\"}}, \"type\": \"Grid\"}, {\"id\": \"619b2352-a4ea-401c-9924-f16742c24bf8\", \"attributes\": {}, \"type\": \"ToolEvents\"}, {\"id\": \"74ee7c7a-ffa8-4ba8-a382-9e4ae0ef20aa\", \"attributes\": {\"plot\": {\"id\": \"35a32d43-028e-40e1-a233-e0ce112e6bcf\", \"subtype\": \"Figure\", \"type\": \"Plot\"}}, \"type\": \"PreviewSaveTool\"}, {\"id\": \"5ff8e3b3-0004-431b-8a76-be767189999f\", \"attributes\": {}, \"type\": \"BasicTicker\"}, {\"id\": \"8b0276a3-134c-405a-bbeb-debca1c85fac\", \"attributes\": {\"plot\": {\"id\": \"ffcc441a-9a6a-497a-9df2-072f2e82ac43\", \"subtype\": \"Figure\", \"type\": \"Plot\"}}, \"type\": \"PanTool\"}, {\"id\": \"ab62a9aa-ebb7-4d59-9458-0d66912dbe31\", \"attributes\": {\"line_alpha\": {\"value\": 1.0}, \"plot\": null, \"bottom_units\": \"screen\", \"render_mode\": \"css\", \"fill_alpha\": {\"value\": 0.5}, \"fill_color\": {\"value\": \"lightgrey\"}, \"left_units\": \"screen\", \"right_units\": \"screen\", \"line_width\": {\"value\": 2}, \"level\": \"overlay\", \"line_color\": {\"value\": \"black\"}, \"top_units\": \"screen\", \"line_dash\": [4, 4]}, \"type\": \"BoxAnnotation\"}, {\"id\": \"497aa6bc-6f6b-4228-a97b-be895e0127a7\", \"attributes\": {\"overlay\": {\"id\": \"82961cb4-4b8e-43fc-aed6-1c68084a1033\", \"type\": \"BoxAnnotation\"}, \"plot\": {\"id\": \"35a32d43-028e-40e1-a233-e0ce112e6bcf\", \"subtype\": \"Figure\", \"type\": \"Plot\"}}, \"type\": \"BoxZoomTool\"}, {\"id\": \"9ecd26d9-c634-445b-b9ac-01fb0b460643\", \"attributes\": {\"callback\": null, \"end\": 0.8}, \"type\": \"Range1d\"}, {\"id\": \"60ca8ade-54f8-4e99-a64f-94fcd62bb569\", \"attributes\": {\"data\": {\"assoc\": [\"GeneticVariation\", \"GeneticVariation\", \"GeneticVariation\", \"GeneticVariation\", \"GeneticVariation\", \"GeneticVariation\", \"GeneticVariation\", \"GeneticVariation\", \"GeneticVariation\", \"GeneticVariation\", \"GeneticVariation\", \"GeneticVariation\", \"GeneticVariation\", \"GeneticVariation\", \"GeneticVariation\", \"GeneticVariation\", \"GeneticVariation\", \"GeneticVariation\", \"GeneticVariation\", \"AlteredExpression\", \"GeneticVariation\", \"GeneticVariation\", \"GeneticVariation\", \"GeneticVariation\", \"GeneticVariation\", \"GeneticVariation\", \"GeneticVariation\", \"GeneticVariation\", \"GeneticVariation\", \"AlteredExpression\", \"GeneticVariation\", \"GeneticVariation\", \"GeneticVariation\", \"GeneticVariation\", \"GeneticVariation\", \"GeneticVariation\", \"GeneticVariation\", \"AlteredExpression\", \"GeneticVariation\", \"GeneticVariation\", \"GeneticVariation\", \"GeneticVariation\", \"GeneticVariation\", \"GeneticVariation\", \"GeneticVariation\", \"GeneticVariation\", \"GeneticVariation\", \"GeneticVariation\", \"GeneticVariation\", \"GeneticVariation\", \"GeneticVariation\", \"GeneticVariation\", \"GeneticVariation\", \"GeneticVariation\", \"GeneticVariation\", \"GeneticVariation\"], \"genes\": [17, 6, 1, 10, 5, 1, 2, 8, 13, 5, 1, 3, 1, 2, 10, 2, 2, 6, 4, 13, 9, 7, 5, 8, 1, 3, 4, 5, 4, 4, 6, 12, 1, 9, 6, 9, 8, 11, 3, 10, 4, 7, 9, 11, 7, 10, 6, 6, 6, 5, 1, 2, 1, 5, 4, 4], \"desc\": [\"cystinuria\", \"mucopolysaccharidosis vi\", \"alkaptonuria\", \"cherubism\", \"ellis-van creveld syndrome\", \"alpha-mannosidosis\", \"guanidinoacetate methyltransferase deficiency\", \"acrodermatitis enteropathica\", \"polycystic liver disease\", \"acrocallosal syndrome\", \"peroxisomal acyl-coa oxidase deficiency\", \"fructose intolerance\", \"l-2-hydroxyglutaric aciduria\", \"globozoospermia\", \"propionic acidemia\", \"occult macular dystrophy\", \"pulmonary alveolar microlithiasis\", \"monilethrix\", \"brown-vialetto-van laere syndrome\", \"maple syrup urine disease\", \"chylomicron retention disease\", \"roberts syndrome\", \"erythrokeratodermia variabilis\", \"enlarged vestibular aqueduct\", \"fucosidosis\", \"holocarboxylase synthetase deficiency\", \"reticular dysgenesis\", \"mulibrey nanism\", \"megalocornea\", \"brody myopathy\", \"meier-gorlin syndrome\", \"cystinosis\", \"pontocerebellar hypoplasia type 2a\", \"leukodystrophy, globoid cell\", \"porphyria, erythropoietic\", \"norrie disease\", \"neuraminidase deficiency with beta-galactosidase deficiency\", \"schimke immunoosseous dysplasia\", \"triglyceride storage disease with impaired long-chain fatty acid oxidation\", \"ocular albinism type 1\", \"giant axonal neuropathy\", \"fraser syndrome\", \"usher syndrome, type iiia\", \"glycogen storage disease type vii\", \"ethylmalonic encephalopathy\", \"hypercholesterolemia, autosomal recessive\", \"cleft palate x-linked\", \"pyogenic arthritis, pyoderma gangrenosum, and acne\", \"multiple sulfatase deficiency disease\", \"short chain acyl coa dehydrogenase deficiency\", \"johanson blizzard syndrome\", \"ectodermal dysplasia, hypohidrotic, autosomal recessive\", \"charcot-marie-tooth disease, type 4c\", \"renal tubular acidosis, distal, autosomal recessive\", \"rhizomelic chondrodysplasia punctata, type 1\", \"charcot-marie-tooth disease, type 4b1\"], \"x\": [0.6746297667614041, 0.4721301909008804, 0.3273673141233069, 0.3218511742420309, 0.31351613988127713, 0.31315978317570514, 0.3087938127962617, 0.306453595971967, 0.2883659703794421, 0.21208762559252506, 0.1887938127962616, 0.187354858080226, 0.17638143838878673, 0.16800000000000015, 0.16764431516636025, 0.16407215758318028, 0.16288143838878688, 0.15895359597196698, 0.1561752511850485, 0.15461706298586742, 0.14986597037944205, 0.1427628767775737, 0.14077834478691842, 0.13848453199065516, 0.13248453199065535, 0.13089690639813156, 0.1245876255925249, 0.11938930834005745, 0.0993969063981317, 0.09696906398131168, 0.07919071919439348, 0.053636717108287435, 0.04089690639813148, 0.0397806054999692, 0.02859858301025975, 0.02282282341492681, 0.01712884715701546, 0.016731940758885292, 0.016335034360753786, 0.015144315166360169, 0.013953595971966992, 0.012762876777573595, 0.012762876777573595, 0.012434613721479026, 0.012365970379442093, 0.012365970379442093, 0.0119690639813117, 0.0119690639813117, 0.011572157583180198, 0.011572157583180198, 0.011175251185048474, 0.010778344786918082, 0.0103814383887868, 0.0103814383887868, 0.0103814383887868, 0.0103814383887868], \"y\": [0.054229934924078085, 0.13736263736263735, 0.43859649122807015, 0.09328358208955224, 0.16778523489932887, 0.7575757575757576, 0.3787878787878788, 0.10593220338983053, 0.07246376811594203, 0.15723270440251572, 0.5555555555555556, 0.2380952380952381, 0.6097560975609756, 0.4310344827586207, 0.09541984732824428, 0.4032258064516129, 0.390625, 0.14705882352941174, 0.1865671641791045, 0.0708215297450425, 0.10373443983402487, 0.12195121951219512, 0.16129032258064516, 0.11904761904761905, 0.7142857142857143, 0.2577319587628866, 0.23148148148148145, 0.1592356687898089, 0.21929824561403508, 0.1984126984126984, 0.15060240963855426, 0.07530120481927711, 0.43859649122807015, 0.09881422924901184, 0.15060240963855426, 0.09578544061302682, 0.10593220338983053, 0.08143322475570032, 0.22123893805309736, 0.09124087591240876, 0.1865671641791045, 0.13089005235602094, 0.09881422924901184, 0.08250825082508251, 0.1295336787564767, 0.08928571428571429, 0.1404494382022472, 0.13440860215053765, 0.1524390243902439, 0.16778523489932887, 0.5555555555555556, 0.3125, 0.4545454545454545, 0.15337423312883436, 0.1953125, 0.1923076923076923], \"desc2\": [\"SLC3A1\", \"ARSB\", \"HGD\", \"SH3BP2\", \"EVC\", \"MAN2B1\", \"GAMT\", \"SLC39A4\", \"SEC63\", \"KIF7\", \"ACOX1\", \"ALDOB\", \"L2HGDH\", \"SPATA16\", \"PCCB\", \"RP1L1\", \"SLC34A2\", \"KRT86\", \"SLC52A3\", \"BCKDHB\", \"SAR1B\", \"ESCO2\", \"GJB4\", \"FOXI1\", \"FUCA1\", \"HLCS\", \"AK2\", \"TRIM37\", \"CHRDL1\", \"ATP2A1\", \"ORC1\", \"CTNS\", \"TSEN54\", \"GALC\", \"UROS\", \"NDP\", \"CTSA\", \"SMARCAL1\", \"ABHD5\", \"GPR143\", \"GAN\", \"FREM2\", \"CLRN1\", \"PFKM\", \"ETHE1\", \"LDLRAP1\", \"TBX22\", \"PSTPIP1\", \"SUMF1\", \"ACADS\", \"UBR1\", \"EDAR\", \"SH3TC2\", \"ATP6V0A4\", \"PEX7\", \"MTMR2\"], \"fill_color\": [\"#7f7f7f\", \"#ff7f0e\", \"#ff7f0e\", \"#ff7f0e\", \"#ff7f0e\", \"#e377c2\", \"#2ca02c\", \"#98df8a\", \"#e377c2\", \"#eeeeee\", \"#2ca02c\", \"#e377c2\", \"#e377c2\", \"#ffbb78\", \"#e377c2\", \"#8c564b\", \"#bcbd22\", \"#98df8a\", \"#ff7f0e\", \"#2ca02c\", \"#d62728\", \"#eeeeee\", \"#98df8a\", \"#9467bd\", \"#2ca02c\", \"#2ca02c\", \"#ff7f0e\", \"#eeeeee\", \"#8c564b\", \"#ff7f0e\", \"#ff7f0e\", \"#ff7f0e\", \"#2ca02c\", \"#1f77b4\", \"#1f77b4\", \"#8c564b\", \"#e377c2\", \"#ff7f0e\", \"#ff7f0e\", \"#8c564b\", \"#2ca02c\", \"#eeeeee\", \"#9467bd\", \"#e377c2\", \"#1f77b4\", \"#e377c2\", \"#17becf\", \"#98df8a\", \"#ff7f0e\", \"#e377c2\", \"#eeeeee\", \"#ff7f0e\", \"#ff7f0e\", \"#7f7f7f\", \"#ff7f0e\", \"#ff7f0e\"], \"cat\": [\"Kidneys and urinary system\", \"Bones, muscles, and connective tissues\", \"Bones, muscles, and connective tissues\", \"Bones, muscles, and connective tissues\", \"Bones, muscles, and connective tissues\", \"Food, nutrition, and metabolism\", \"Brain and nervous system\", \"Skin, hair, and nails\", \"Food, nutrition, and metabolism\", \"Not Available\", \"Brain and nervous system\", \"Food, nutrition, and metabolism\", \"Food, nutrition, and metabolism\", \"Reproductive system\", \"Food, nutrition, and metabolism\", \"Eyes and vision\", \"Lungs and breathing\", \"Skin, hair, and nails\", \"Bones, muscles, and connective tissues\", \"Brain and nervous system\", \"Digestive system\", \"Not Available\", \"Skin, hair, and nails\", \"Ear, nose, and throat\", \"Brain and nervous system\", \"Brain and nervous system\", \"Bones, muscles, and connective tissues\", \"Not Available\", \"Eyes and vision\", \"Bones, muscles, and connective tissues\", \"Bones, muscles, and connective tissues\", \"Bones, muscles, and connective tissues\", \"Brain and nervous system\", \"Blood/lymphatic system\", \"Blood/lymphatic system\", \"Eyes and vision\", \"Food, nutrition, and metabolism\", \"Bones, muscles, and connective tissues\", \"Bones, muscles, and connective tissues\", \"Eyes and vision\", \"Brain and nervous system\", \"Not Available\", \"Ear, nose, and throat\", \"Food, nutrition, and metabolism\", \"Blood/lymphatic system\", \"Food, nutrition, and metabolism\", \"Mouth and teeth\", \"Skin, hair, and nails\", \"Bones, muscles, and connective tissues\", \"Food, nutrition, and metabolism\", \"Not Available\", \"Bones, muscles, and connective tissues\", \"Bones, muscles, and connective tissues\", \"Kidneys and urinary system\", \"Bones, muscles, and connective tissues\", \"Bones, muscles, and connective tissues\"]}, \"callback\": null, \"column_names\": [\"assoc\", \"genes\", \"x\", \"y\", \"desc2\", \"desc\", \"cat\", \"fill_color\"]}, \"type\": \"ColumnDataSource\"}, {\"id\": \"af5a107a-9fa8-4103-b8f2-64fa25a862d7\", \"attributes\": {\"plot\": {\"id\": \"fff0d626-fc0a-4ede-b3ae-4d8d398c10ef\", \"subtype\": \"Figure\", \"type\": \"Plot\"}}, \"type\": \"ResetTool\"}, {\"id\": \"24a4fe07-7381-4a5c-986e-89ea341edac8\", \"attributes\": {}, \"type\": \"BasicTickFormatter\"}, {\"id\": \"1e13b4cf-b70d-4a8c-b646-3390d2372400\", \"attributes\": {}, \"type\": \"BasicTickFormatter\"}, {\"id\": \"f8c9641a-33cb-4b3a-ad11-ecc57c81e0c1\", \"attributes\": {\"line_alpha\": {\"value\": 1.0}, \"plot\": null, \"bottom_units\": \"screen\", \"render_mode\": \"css\", \"fill_alpha\": {\"value\": 0.5}, \"fill_color\": {\"value\": \"lightgrey\"}, \"left_units\": \"screen\", \"right_units\": \"screen\", \"line_width\": {\"value\": 2}, \"level\": \"overlay\", \"line_color\": {\"value\": \"black\"}, \"top_units\": \"screen\", \"line_dash\": [4, 4]}, \"type\": \"BoxAnnotation\"}, {\"id\": \"b6dcae8b-b414-499d-a5d3-9a59691569ac\", \"subtype\": \"Figure\", \"attributes\": {\"plot_width\": 900, \"tools\": [{\"id\": \"e49a5db6-6db9-433d-8118-108cbd480f4f\", \"type\": \"HoverTool\"}, {\"id\": \"47220d1d-dc4b-42e8-a203-8ca1675a1569\", \"type\": \"BoxZoomTool\"}, {\"id\": \"eec59015-f191-4b99-b858-abfc4aba20e1\", \"type\": \"PanTool\"}, {\"id\": \"82386aba-d54c-474a-acbc-464f6b67b309\", \"type\": \"ResetTool\"}, {\"id\": \"550488f7-dabd-486b-9efb-731267853086\", \"type\": \"PreviewSaveTool\"}, {\"id\": \"17319d59-b639-4328-a343-fb06aa90239d\", \"type\": \"TapTool\"}], \"left\": [{\"id\": \"57868ce2-07e7-43ef-b6b5-ef76cfd29122\", \"type\": \"LinearAxis\"}], \"renderers\": [{\"id\": \"ec94e3e5-aa82-4298-98a5-25939a806694\", \"type\": \"LinearAxis\"}, {\"id\": \"a1e88457-5b26-4f0d-8c70-9eb75e293bb0\", \"type\": \"Grid\"}, {\"id\": \"57868ce2-07e7-43ef-b6b5-ef76cfd29122\", \"type\": \"LinearAxis\"}, {\"id\": \"7591dff3-76a0-4370-b6b2-4f74e7c356bd\", \"type\": \"Grid\"}, {\"id\": \"0ce48dfc-44a6-4a9c-83a4-86d51f61addd\", \"type\": \"BoxAnnotation\"}, {\"id\": \"a2fca2b9-d743-4706-ab5c-9bdfb4ee3d32\", \"type\": \"GlyphRenderer\"}], \"tool_events\": {\"id\": \"96f2230c-ee1d-4966-8519-4f8106b5e247\", \"type\": \"ToolEvents\"}, \"title_text_font\": \"Source Sans Pro\", \"x_range\": {\"id\": \"3f378c5b-9c43-406e-8abf-966af27629ee\", \"type\": \"Range1d\"}, \"below\": [{\"id\": \"ec94e3e5-aa82-4298-98a5-25939a806694\", \"type\": \"LinearAxis\"}], \"y_range\": {\"id\": \"48248c22-bec3-4cf2-ad6d-c0fa3c5d3811\", \"type\": \"Range1d\"}}, \"type\": \"Plot\"}, {\"id\": \"c6512b5b-5dae-4bfd-aa0d-b4cf16b79214\", \"attributes\": {}, \"type\": \"BasicTicker\"}, {\"id\": \"ef3c3fd2-bc33-43ae-80c8-3542dc631c5b\", \"attributes\": {\"y\": {\"field\": \"y\"}, \"line_color\": {\"value\": \"#000000\"}, \"x\": {\"field\": \"x\"}, \"size\": {\"units\": \"screen\", \"value\": 20}, \"fill_alpha\": {\"value\": 0.8}, \"fill_color\": {\"field\": \"fill_color\"}}, \"type\": \"Circle\"}, {\"id\": \"ee69963c-5a46-4f6f-bd1c-a2c657e67a0b\", \"attributes\": {\"callback\": {\"id\": \"db7a8918-722b-4b1e-bc76-2d478cfd34aa\", \"type\": \"OpenURL\"}, \"plot\": {\"id\": \"fff0d626-fc0a-4ede-b3ae-4d8d398c10ef\", \"subtype\": \"Figure\", \"type\": \"Plot\"}}, \"type\": \"TapTool\"}, {\"id\": \"46e9fa64-c2f4-4069-b915-981cc30b674a\", \"attributes\": {\"tooltips\": [[\"Disease\", \"@desc\"], [\"Category\", \"@cat\"], [\"Gene\", \"@desc2\"], [\"Type\", \"@assoc\"], [\"Strength\", \"@x{0.000}\"], [\"Frequency\", \"@y{0.000}\"]], \"names\": [\"pts\"], \"callback\": null, \"plot\": {\"id\": \"b967876e-b4ea-428c-b424-79a234411d15\", \"subtype\": \"Figure\", \"type\": \"Plot\"}}, \"type\": \"HoverTool\"}, {\"id\": \"17319d59-b639-4328-a343-fb06aa90239d\", \"attributes\": {\"callback\": {\"id\": \"bad25725-650e-48eb-9320-dd3d50a03fb8\", \"type\": \"OpenURL\"}, \"plot\": {\"id\": \"b6dcae8b-b414-499d-a5d3-9a59691569ac\", \"subtype\": \"Figure\", \"type\": \"Plot\"}}, \"type\": \"TapTool\"}, {\"id\": \"979a077a-63bc-4cac-9b48-15e2b1dc60b3\", \"attributes\": {}, \"type\": \"BasicTicker\"}, {\"id\": \"db7a8918-722b-4b1e-bc76-2d478cfd34aa\", \"attributes\": {\"url\": \"http://www.ncbi.nlm.nih.gov/pubmed/?term=@desc+@desc2\"}, \"type\": \"OpenURL\"}, {\"id\": \"589e3f1f-78af-4ba2-8c12-f3ace71d9be9\", \"attributes\": {}, \"type\": \"BasicTicker\"}, {\"id\": \"35a32d43-028e-40e1-a233-e0ce112e6bcf\", \"subtype\": \"Figure\", \"attributes\": {\"plot_width\": 900, \"tools\": [{\"id\": \"d48a7508-9061-4083-8e24-be28e95eec33\", \"type\": \"HoverTool\"}, {\"id\": \"497aa6bc-6f6b-4228-a97b-be895e0127a7\", \"type\": \"BoxZoomTool\"}, {\"id\": \"11b70fe2-e382-49f1-abd9-770e98e57792\", \"type\": \"PanTool\"}, {\"id\": \"c21099b5-154c-47ed-a871-7ae6cfd5001a\", \"type\": \"ResetTool\"}, {\"id\": \"74ee7c7a-ffa8-4ba8-a382-9e4ae0ef20aa\", \"type\": \"PreviewSaveTool\"}, {\"id\": \"90498728-344c-43ce-b911-4be40297fcdc\", \"type\": \"TapTool\"}], \"left\": [{\"id\": \"a1dfb855-7ba6-4c14-b0e6-75cd7ebb5504\", \"type\": \"LinearAxis\"}], \"renderers\": [{\"id\": \"1636b41c-e4a6-4df2-aa4b-242186c896d3\", \"type\": \"LinearAxis\"}, {\"id\": \"0e0b6739-6084-4caf-a5f8-0ed355c37b07\", \"type\": \"Grid\"}, {\"id\": \"a1dfb855-7ba6-4c14-b0e6-75cd7ebb5504\", \"type\": \"LinearAxis\"}, {\"id\": \"15b3b309-aa17-465c-a73b-3a2245e51f01\", \"type\": \"Grid\"}, {\"id\": \"82961cb4-4b8e-43fc-aed6-1c68084a1033\", \"type\": \"BoxAnnotation\"}], \"tool_events\": {\"id\": \"67118c0b-6c9d-4114-b487-75f5c213790f\", \"type\": \"ToolEvents\"}, \"title_text_font\": \"Source Sans Pro\", \"x_range\": {\"id\": \"c5f1a79a-6a47-4156-9f0a-748862d68000\", \"type\": \"Range1d\"}, \"below\": [{\"id\": \"1636b41c-e4a6-4df2-aa4b-242186c896d3\", \"type\": \"LinearAxis\"}], \"y_range\": {\"id\": \"c4a63e23-ba8f-44b5-8b6c-1e9f83f6262f\", \"type\": \"Range1d\"}}, \"type\": \"Plot\"}, {\"id\": \"1aa207c9-f176-47c9-8299-52673bc7ba59\", \"attributes\": {\"plot\": {\"id\": \"ffcc441a-9a6a-497a-9df2-072f2e82ac43\", \"subtype\": \"Figure\", \"type\": \"Plot\"}}, \"type\": \"PreviewSaveTool\"}, {\"id\": \"e13f0c8b-1dcc-4ad9-88cd-3950be8361b6\", \"attributes\": {\"url\": \"http://www.ncbi.nlm.nih.gov/pubmed/?term=@desc+@desc2\"}, \"type\": \"OpenURL\"}, {\"id\": \"47220d1d-dc4b-42e8-a203-8ca1675a1569\", \"attributes\": {\"overlay\": {\"id\": \"0ce48dfc-44a6-4a9c-83a4-86d51f61addd\", \"type\": \"BoxAnnotation\"}, \"plot\": {\"id\": \"b6dcae8b-b414-499d-a5d3-9a59691569ac\", \"subtype\": \"Figure\", \"type\": \"Plot\"}}, \"type\": \"BoxZoomTool\"}, {\"id\": \"331dfbdc-0139-48cc-b7cc-96dbe8e071ba\", \"attributes\": {}, \"type\": \"ToolEvents\"}, {\"id\": \"fff0d626-fc0a-4ede-b3ae-4d8d398c10ef\", \"subtype\": \"Figure\", \"attributes\": {\"plot_width\": 900, \"tools\": [{\"id\": \"fb750821-d9e5-4d6d-bbc8-4de392dc23d9\", \"type\": \"HoverTool\"}, {\"id\": \"fa4e8079-a74f-4968-b9b6-44d1db2672ad\", \"type\": \"BoxZoomTool\"}, {\"id\": \"85e0e90c-dcef-4131-8ff2-fcd93627da69\", \"type\": \"PanTool\"}, {\"id\": \"af5a107a-9fa8-4103-b8f2-64fa25a862d7\", \"type\": \"ResetTool\"}, {\"id\": \"a7cf43cc-38de-4a60-b702-420939e01551\", \"type\": \"PreviewSaveTool\"}, {\"id\": \"ee69963c-5a46-4f6f-bd1c-a2c657e67a0b\", \"type\": \"TapTool\"}], \"left\": [{\"id\": \"07e83075-e533-4f0e-9107-2ec62f366ea0\", \"type\": \"LinearAxis\"}], \"renderers\": [{\"id\": \"daff7ffb-e813-4852-9d52-c48fd6edbfe6\", \"type\": \"LinearAxis\"}, {\"id\": \"e0466d64-d075-49cb-8b4d-1e826ce9643c\", \"type\": \"Grid\"}, {\"id\": \"07e83075-e533-4f0e-9107-2ec62f366ea0\", \"type\": \"LinearAxis\"}, {\"id\": \"155915af-ea8c-4c83-9a8b-da5d2159d02a\", \"type\": \"Grid\"}, {\"id\": \"00582ba2-731d-49d4-9ba8-daab8c55c255\", \"type\": \"BoxAnnotation\"}, {\"id\": \"ef718a7e-10ae-4b36-ba65-eb4e3aabd512\", \"type\": \"Legend\"}, {\"id\": \"176d9307-3016-4885-891a-a5ce418eba0c\", \"type\": \"GlyphRenderer\"}], \"tool_events\": {\"id\": \"2e2b29ba-34c5-4ff3-94c9-bffa59bc9607\", \"type\": \"ToolEvents\"}, \"title_text_font\": \"Source Sans Pro\", \"x_range\": {\"id\": \"07f1ebe9-4079-4c84-9171-628f9f04b7bc\", \"type\": \"Range1d\"}, \"below\": [{\"id\": \"daff7ffb-e813-4852-9d52-c48fd6edbfe6\", \"type\": \"LinearAxis\"}], \"y_range\": {\"id\": \"94e9c033-f5d2-4d62-8b77-0ec89bd34e77\", \"type\": \"Range1d\"}}, \"type\": \"Plot\"}, {\"id\": \"1c606032-5f23-40ff-84e6-d387e82c962b\", \"attributes\": {}, \"type\": \"BasicTickFormatter\"}, {\"id\": \"9905f528-fb93-4dfb-b062-c2981ce8c6a1\", \"attributes\": {\"callback\": null, \"end\": 0.8}, \"type\": \"Range1d\"}, {\"id\": \"96f2230c-ee1d-4966-8519-4f8106b5e247\", \"attributes\": {}, \"type\": \"ToolEvents\"}, {\"id\": \"a1e88457-5b26-4f0d-8c70-9eb75e293bb0\", \"attributes\": {\"plot\": {\"id\": \"b6dcae8b-b414-499d-a5d3-9a59691569ac\", \"subtype\": \"Figure\", \"type\": \"Plot\"}, \"ticker\": {\"id\": \"18ddd097-025d-449b-b9fe-45de40b7d1e6\", \"type\": \"BasicTicker\"}}, \"type\": \"Grid\"}, {\"id\": \"d48a7508-9061-4083-8e24-be28e95eec33\", \"attributes\": {\"tooltips\": [[\"Disease\", \"@desc\"], [\"Category\", \"@cat\"], [\"Gene\", \"@desc2\"], [\"Type\", \"@assoc\"], [\"Strength\", \"@x{0.000}\"], [\"Frequency\", \"@y{0.000}\"]], \"names\": [\"pts\"], \"callback\": null, \"plot\": {\"id\": \"35a32d43-028e-40e1-a233-e0ce112e6bcf\", \"subtype\": \"Figure\", \"type\": \"Plot\"}}, \"type\": \"HoverTool\"}, {\"id\": \"0ce48dfc-44a6-4a9c-83a4-86d51f61addd\", \"attributes\": {\"line_alpha\": {\"value\": 1.0}, \"plot\": null, \"bottom_units\": \"screen\", \"render_mode\": \"css\", \"fill_alpha\": {\"value\": 0.5}, \"fill_color\": {\"value\": \"lightgrey\"}, \"left_units\": \"screen\", \"right_units\": \"screen\", \"line_width\": {\"value\": 2}, \"level\": \"overlay\", \"line_color\": {\"value\": \"black\"}, \"top_units\": \"screen\", \"line_dash\": [4, 4]}, \"type\": \"BoxAnnotation\"}, {\"id\": \"57868ce2-07e7-43ef-b6b5-ef76cfd29122\", \"attributes\": {\"ticker\": {\"id\": \"979a077a-63bc-4cac-9b48-15e2b1dc60b3\", \"type\": \"BasicTicker\"}, \"formatter\": {\"id\": \"8184ff78-bd56-4e3d-836c-715487ea37f4\", \"type\": \"BasicTickFormatter\"}, \"axis_label\": \"Specificity Score\", \"axis_label_text_font\": \"Source Sans Pro\", \"plot\": {\"id\": \"b6dcae8b-b414-499d-a5d3-9a59691569ac\", \"subtype\": \"Figure\", \"type\": \"Plot\"}}, \"type\": \"LinearAxis\"}, {\"id\": \"2a4c94ef-6ec3-483b-aa47-4d60a116d5ff\", \"attributes\": {\"y\": {\"field\": \"y\"}, \"line_color\": {\"value\": \"#000000\"}, \"x\": {\"field\": \"x\"}, \"size\": {\"units\": \"screen\", \"value\": 20}, \"fill_alpha\": {\"value\": 0.8}, \"fill_color\": {\"field\": \"fill_color\"}}, \"type\": \"Circle\"}, {\"id\": \"9769fb4c-1085-4905-a59c-08bc02266549\", \"attributes\": {}, \"type\": \"BasicTickFormatter\"}, {\"id\": \"46caf2c7-b433-44ae-b81c-4497b4d3cc77\", \"attributes\": {\"ticker\": {\"id\": \"86c6da4c-ef02-4c50-bbd6-68e99be4e285\", \"type\": \"BasicTicker\"}, \"formatter\": {\"id\": \"71ecd369-2d8f-443c-a92a-7e43f26e3a7d\", \"type\": \"BasicTickFormatter\"}, \"axis_label\": \"Specificity Score\", \"axis_label_text_font\": \"Source Sans Pro\", \"plot\": {\"id\": \"b967876e-b4ea-428c-b424-79a234411d15\", \"subtype\": \"Figure\", \"type\": \"Plot\"}}, \"type\": \"LinearAxis\"}, {\"id\": \"7591dff3-76a0-4370-b6b2-4f74e7c356bd\", \"attributes\": {\"plot\": {\"id\": \"b6dcae8b-b414-499d-a5d3-9a59691569ac\", \"subtype\": \"Figure\", \"type\": \"Plot\"}, \"dimension\": 1, \"ticker\": {\"id\": \"979a077a-63bc-4cac-9b48-15e2b1dc60b3\", \"type\": \"BasicTicker\"}}, \"type\": \"Grid\"}, {\"id\": \"c21099b5-154c-47ed-a871-7ae6cfd5001a\", \"attributes\": {\"plot\": {\"id\": \"35a32d43-028e-40e1-a233-e0ce112e6bcf\", \"subtype\": \"Figure\", \"type\": \"Plot\"}}, \"type\": \"ResetTool\"}, {\"id\": \"5b9d10e4-5a99-4680-a91c-59db38c93786\", \"attributes\": {\"plot\": {\"id\": \"b967876e-b4ea-428c-b424-79a234411d15\", \"subtype\": \"Figure\", \"type\": \"Plot\"}}, \"type\": \"PreviewSaveTool\"}, {\"id\": \"e49a5db6-6db9-433d-8118-108cbd480f4f\", \"attributes\": {\"tooltips\": [[\"Disease\", \"@desc\"], [\"Category\", \"@cat\"], [\"Gene\", \"@desc2\"], [\"Type\", \"@assoc\"], [\"Strength\", \"@x{0.000}\"], [\"Frequency\", \"@y{0.000}\"]], \"names\": [\"pts\"], \"callback\": null, \"plot\": {\"id\": \"b6dcae8b-b414-499d-a5d3-9a59691569ac\", \"subtype\": \"Figure\", \"type\": \"Plot\"}}, \"type\": \"HoverTool\"}, {\"id\": \"ab43bc92-be9b-4dda-b185-fe8e630d0809\", \"attributes\": {\"ticker\": {\"id\": \"83140f0a-3113-46ae-ba38-602736546ba7\", \"type\": \"BasicTicker\"}, \"formatter\": {\"id\": \"1c606032-5f23-40ff-84e6-d387e82c962b\", \"type\": \"BasicTickFormatter\"}, \"axis_label\": \"Association Score\", \"axis_label_text_font\": \"Source Sans Pro\", \"plot\": {\"id\": \"b967876e-b4ea-428c-b424-79a234411d15\", \"subtype\": \"Figure\", \"type\": \"Plot\"}}, \"type\": \"LinearAxis\"}, {\"id\": \"ec94e3e5-aa82-4298-98a5-25939a806694\", \"attributes\": {\"ticker\": {\"id\": \"18ddd097-025d-449b-b9fe-45de40b7d1e6\", \"type\": \"BasicTicker\"}, \"formatter\": {\"id\": \"9769fb4c-1085-4905-a59c-08bc02266549\", \"type\": \"BasicTickFormatter\"}, \"axis_label\": \"Association Score\", \"axis_label_text_font\": \"Source Sans Pro\", \"plot\": {\"id\": \"b6dcae8b-b414-499d-a5d3-9a59691569ac\", \"subtype\": \"Figure\", \"type\": \"Plot\"}}, \"type\": \"LinearAxis\"}, {\"id\": \"a7cf43cc-38de-4a60-b702-420939e01551\", \"attributes\": {\"plot\": {\"id\": \"fff0d626-fc0a-4ede-b3ae-4d8d398c10ef\", \"subtype\": \"Figure\", \"type\": \"Plot\"}}, \"type\": \"PreviewSaveTool\"}]}, \"title\": \"Bokeh Application\", \"version\": \"0.11.0\"}};\n",
       "            var render_items = [{\"docid\": \"e02e446d-8420-4186-be03-f371ff0b04e7\", \"modelid\": \"b6dcae8b-b414-499d-a5d3-9a59691569ac\", \"elementid\": \"1eb7e81e-8f38-4efa-91a6-7122a6f6f523\", \"notebook_comms_target\": \"b6db530e-f73c-483d-96f0-bee2ee059b53\"}];\n",
       "            \n",
       "            Bokeh.embed.embed_items(docs_json, render_items);\n",
       "        });\n",
       "      },\n",
       "      function(Bokeh) {\n",
       "      }\n",
       "    ];\n",
       "  \n",
       "    function run_inline_js() {\n",
       "      for (var i = 0; i < inline_js.length; i++) {\n",
       "        inline_js[i](window.Bokeh);\n",
       "      }\n",
       "    }\n",
       "  \n",
       "    if (window._bokeh_is_loading === 0) {\n",
       "      console.log(\"Bokeh: BokehJS loaded, going straight to plotting\");\n",
       "      run_inline_js();\n",
       "    } else {\n",
       "      load_libs(js_urls, function() {\n",
       "        console.log(\"Bokeh: BokehJS plotting callback run at\", now());\n",
       "        run_inline_js();\n",
       "      });\n",
       "    }\n",
       "  }(this));\n",
       "</script>"
      ]
     },
     "metadata": {},
     "output_type": "display_data"
    },
    {
     "data": {
      "text/plain": [
       "<bokeh.io._CommsHandle at 0x10a56d2b0>"
      ]
     },
     "execution_count": 17,
     "metadata": {},
     "output_type": "execute_result"
    }
   ],
   "source": [
    "dfall['color'] = dfall['category'].map(lambda x: catclr[x])\n",
    "\n",
    "\n",
    "xcir = np.linspace(-0.6,1,100)\n",
    "ycir = 1-np.sqrt(np.square(cirrad)-np.square(xcir-1))\n",
    "xcir = np.append(xcir, 1.0)\n",
    "ycir = np.append(ycir, 1.0)\n",
    "\n",
    "source = ColumnDataSource(\n",
    "        data=dict(\n",
    "            x=xx,\n",
    "            # y=yy+rndm,\n",
    "            y=yy,\n",
    "            genes=dfall['geneCount'],\n",
    "            desc=dfall['diseaseName'],\n",
    "            desc2=dfall['geneSymbol'],\n",
    "            cat=dfall['category'],\n",
    "            assoc=dfall['associationType']\n",
    "        )\n",
    "    )\n",
    "\n",
    "hover = HoverTool(tooltips=[(\"Disease\", \"@desc\"), (\"Category\", \"@cat\"), \n",
    "(\"Gene\", \"@desc2\"), (\"Type\", \"@assoc\"), (\"Strength\", \"@x{0.000}\"), (\"Frequency\", \"@y{0.000}\")], names=['pts'])\n",
    "\n",
    "\n",
    "\n",
    "p = figure(plot_width=900, plot_height=600, tools=['box_zoom','pan','reset','save',hover,'tap'],\n",
    "           x_range=[0,0.8], y_range=[0,0.8])\n",
    "p.title_text_font = 'Source Sans Pro'\n",
    "p.xaxis.axis_label = 'Association Score'\n",
    "p.yaxis.axis_label = 'Specificity Score'\n",
    "p.xaxis.axis_label_text_font = 'Source Sans Pro'\n",
    "p.yaxis.axis_label_text_font = 'Source Sans Pro'\n",
    "\n",
    "\n",
    "# p.patch(xcir, ycir, line_color='#33ff33', fill_alpha=0.15, color='#ccffcc', line_width=1)\n",
    "\n",
    "p.circle('x', 'y', size=20, fill_alpha=0.8, color=dfall['color'], source=source, line_width=1, line_color='#000000', \n",
    "         name='pts')\n",
    "\n",
    "url = \"http://www.ncbi.nlm.nih.gov/pubmed/?term=@desc+@desc2\"\n",
    "taptool = p.select(type=TapTool)\n",
    "taptool.callback = OpenURL(url=url)\n",
    "\n",
    "\n",
    "show(p)"
   ]
  },
  {
   "cell_type": "code",
   "execution_count": null,
   "metadata": {
    "collapsed": false
   },
   "outputs": [],
   "source": [
    "# Generate colors for graphs\n",
    "# colorseq = ['#1f77b4', '#aec7e8', '#ff7f0e', '#ffbb78', '#2ca02c',\n",
    "#             '#98df8a', '#d62728', '#ff9896', '#9467bd', '#c5b0d5',\n",
    "#             '#8c564b', '#c49c94', '#e377c2', '#f7b6d2', '#7f7f7f',\n",
    "#             '#c7c7c7', '#bcbd22', '#dbdb8d', '#17becf', '#9edae5']\n",
    "\n",
    "# colordark = colorseq[0::2]\n",
    "# colorlight = colorseq[1::2]\n",
    "\n",
    "# print(colordark)\n",
    "# print(colorlight)\n",
    "\n",
    "# fig,axes = plt.subplots(1,3, figsize=(12,4))\n",
    "# for i,colors in zip([0,1,2],[colorseq,colordark,colorlight]):\n",
    "#     x = np.arange(len(colors))\n",
    "#     axes[i].scatter(x,x,color=colors, s=400)    "
   ]
  },
  {
   "cell_type": "code",
   "execution_count": 21,
   "metadata": {
    "collapsed": false,
    "scrolled": false
   },
   "outputs": [
    {
     "data": {
      "image/png": "[encoded data removed]",
      "text/plain": [
       "<matplotlib.figure.Figure at 0x10a5dc5f8>"
      ]
     },
     "metadata": {},
     "output_type": "display_data"
    }
   ],
   "source": [
    "import matplotlib.font_manager as fm\n",
    "\n",
    "# Histogram of categories\n",
    "\n",
    "# Dictionary of category colors is catclr\n",
    "\n",
    "# Number of GDAs in each category, groupby and count\n",
    "sercount = dfall.groupby(['category']).count()['diseaseName']\n",
    "sercats = sercount.copy()\n",
    "sercats.sort_values(inplace=True)\n",
    "\n",
    "numcats = len(sercats)\n",
    "# print(sercats)\n",
    "\n",
    "\n",
    "# mpl.rcParams['text.color'] = '#333333'\n",
    "plt.rc('font', size='20')\n",
    "prop = fm.FontProperties(fname='/Library/fonts/SourceSansPro-Regular.ttf')\n",
    "\n",
    "fig = plt.figure(figsize=(10,7))\n",
    "for x,idx,cat in zip(np.arange(numcats),sercats.index,sercats.values):\n",
    "    plt.barh(x, cat, color=catclr[idx])\n",
    "plt.tick_params(axis='both', which='major', labelsize=16)\n",
    "plt.yticks(np.arange(len(sercats))+0.3,sercats.index, color='#222222',fontproperties=prop)\n",
    "plt.xlabel('Number of Gene-Disease Assocations', color='#333333', fontproperties=prop)\n",
    "# plt.title('Category Distribution of Gene-Disease Associations', color='#333333')\n",
    "plt.ylim(0,numcats)\n",
    "\n",
    "\n",
    "# plt.savefig('../genediseaselink-web/static/catdist.png',bbox_inches='tight',dpi=150)\n",
    "plt.show()"
   ]
  },
  {
   "cell_type": "code",
   "execution_count": null,
   "metadata": {
    "collapsed": false
   },
   "outputs": [],
   "source": [
    "# For pull-down menu list\n",
    "\n",
    "disease_dict = {'immune': 'Immune system', 'mouth': 'Mouth and teeth', \n",
    "                'kidney': 'Kidneys and urinary system', \n",
    "                'reproductive': 'Reproductive system', \n",
    "                'metabolism': 'Food, nutrition, and metabolism', \n",
    "                'digest': 'Digestive system', 'blood': 'Blood/lymphatic system', \n",
    "                'bone': 'Bones, muscles, and connective tissues', \n",
    "                'ent': 'Ear, nose, and throat', 'not': \"Not Available\",\n",
    "                'endocrine': 'Endocrine system (hormones)', 'all': 'All', \n",
    "                'eye': 'Eyes and vision', 'cancer': 'Cancers', 'skin': \n",
    "                'Skin, hair, and nails', 'heart': 'Heart and circulation', \n",
    "                'mental': 'Mental health and behavior', \n",
    "                'brain': 'Brain and nervous system', 'lung': 'Lungs and breathing'}\n",
    "\n",
    "newdict = {k: v for k, v in disease_dict.items() \n",
    "           if (v in dfall.category.unique()) or (k in 'all') or (k in 'not')}\n",
    "print(newdict)"
   ]
  },
  {
   "cell_type": "code",
   "execution_count": null,
   "metadata": {
    "collapsed": false
   },
   "outputs": [],
   "source": [
    "dfall.category.unique().tolist()"
   ]
  },
  {
   "cell_type": "code",
   "execution_count": null,
   "metadata": {
    "collapsed": true
   },
   "outputs": [],
   "source": []
  }
 ],
 "metadata": {
  "kernelspec": {
   "display_name": "Python 3",
   "language": "python",
   "name": "python3"
  },
  "language_info": {
   "codemirror_mode": {
    "name": "ipython",
    "version": 3
   },
   "file_extension": ".py",
   "mimetype": "text/x-python",
   "name": "python",
   "nbconvert_exporter": "python",
   "pygments_lexer": "ipython3",
   "version": "3.4.3"
  }
 },
 "nbformat": 4,
 "nbformat_minor": 0
}
