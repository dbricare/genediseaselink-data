{
 "cells": [
  {
   "cell_type": "markdown",
   "metadata": {},
   "source": [
    "# Combine 3 datasets\n",
    "\n",
    "From DisGeNET, Human Phenotype Ontology, and DISEASES"
   ]
  },
  {
   "cell_type": "code",
   "execution_count": 2,
   "metadata": {
    "collapsed": true
   },
   "outputs": [],
   "source": [
    "import pandas as pd\n",
    "import numpy as np"
   ]
  },
  {
   "cell_type": "code",
   "execution_count": 4,
   "metadata": {
    "collapsed": false
   },
   "outputs": [
    {
     "name": "stdout",
     "output_type": "stream",
     "text": [
      "(275, 7)\n"
     ]
    },
    {
     "data": {
      "text/html": [
       "<div>\n",
       "<table border=\"1\" class=\"dataframe\">\n",
       "  <thead>\n",
       "    <tr style=\"text-align: right;\">\n",
       "      <th></th>\n",
       "      <th>diseaseName</th>\n",
       "      <th>Number of genes</th>\n",
       "      <th>score</th>\n",
       "      <th>geneSymbol</th>\n",
       "      <th>geneName</th>\n",
       "      <th>relurl</th>\n",
       "      <th>category</th>\n",
       "    </tr>\n",
       "  </thead>\n",
       "  <tbody>\n",
       "    <tr>\n",
       "      <th>0</th>\n",
       "      <td>canavan disease</td>\n",
       "      <td>4</td>\n",
       "      <td>0.839553</td>\n",
       "      <td>ASPA</td>\n",
       "      <td>aspartoacylase</td>\n",
       "      <td>/condition/canavan-disease</td>\n",
       "      <td>Brain and nervous system</td>\n",
       "    </tr>\n",
       "    <tr>\n",
       "      <th>1</th>\n",
       "      <td>cleidocranial dysplasia</td>\n",
       "      <td>3</td>\n",
       "      <td>0.763477</td>\n",
       "      <td>RUNX2</td>\n",
       "      <td>runt-related transcription factor 2</td>\n",
       "      <td>/condition/cleidocranial-dysplasia</td>\n",
       "      <td>Bones, muscles, and connective tissues</td>\n",
       "    </tr>\n",
       "  </tbody>\n",
       "</table>\n",
       "</div>"
      ],
      "text/plain": [
       "               diseaseName  Number of genes     score geneSymbol  \\\n",
       "0          canavan disease                4  0.839553       ASPA   \n",
       "1  cleidocranial dysplasia                3  0.763477      RUNX2   \n",
       "\n",
       "                              geneName                              relurl  \\\n",
       "0                       aspartoacylase          /condition/canavan-disease   \n",
       "1  runt-related transcription factor 2  /condition/cleidocranial-dysplasia   \n",
       "\n",
       "                                 category  \n",
       "0                Brain and nervous system  \n",
       "1  Bones, muscles, and connective tissues  "
      ]
     },
     "execution_count": 4,
     "metadata": {},
     "output_type": "execute_result"
    }
   ],
   "source": [
    "# Load saved data\n",
    "dfsaved = pd.read_csv('GeneDiseaseMoreCats.csv')\n",
    "print(dfsaved.shape)\n",
    "dfsaved.head(2)"
   ]
  },
  {
   "cell_type": "code",
   "execution_count": 6,
   "metadata": {
    "collapsed": false
   },
   "outputs": [
    {
     "name": "stdout",
     "output_type": "stream",
     "text": [
      "(96796, 3)\n",
      "(710973, 3)\n"
     ]
    }
   ],
   "source": [
    "# Load other datasets\n",
    "dfhpo = pd.read_csv('hpo.csv', sep='\\t')\n",
    "print(dfhpo.shape)\n",
    "dfmined = pd.read_csv('mined.csv', sep='\\t')\n",
    "print(dfmined.shape)"
   ]
  },
  {
   "cell_type": "code",
   "execution_count": 52,
   "metadata": {
    "collapsed": false
   },
   "outputs": [
    {
     "data": {
      "text/html": [
       "<div>\n",
       "<table border=\"1\" class=\"dataframe\">\n",
       "  <thead>\n",
       "    <tr style=\"text-align: right;\">\n",
       "      <th></th>\n",
       "      <th>geneSymbol</th>\n",
       "      <th>diseaseName</th>\n",
       "      <th>score_hpo</th>\n",
       "    </tr>\n",
       "  </thead>\n",
       "  <tbody>\n",
       "    <tr>\n",
       "      <th>0</th>\n",
       "      <td>CYP7B1</td>\n",
       "      <td>acholic stools</td>\n",
       "      <td>1</td>\n",
       "    </tr>\n",
       "    <tr>\n",
       "      <th>1</th>\n",
       "      <td>CYP7B1</td>\n",
       "      <td>hepatic failure</td>\n",
       "      <td>1</td>\n",
       "    </tr>\n",
       "    <tr>\n",
       "      <th>2</th>\n",
       "      <td>CYP7B1</td>\n",
       "      <td>steatorrhea</td>\n",
       "      <td>1</td>\n",
       "    </tr>\n",
       "    <tr>\n",
       "      <th>3</th>\n",
       "      <td>CYP7B1</td>\n",
       "      <td>pruritus</td>\n",
       "      <td>1</td>\n",
       "    </tr>\n",
       "    <tr>\n",
       "      <th>4</th>\n",
       "      <td>CYP7B1</td>\n",
       "      <td>hepatomegaly</td>\n",
       "      <td>1</td>\n",
       "    </tr>\n",
       "  </tbody>\n",
       "</table>\n",
       "</div>"
      ],
      "text/plain": [
       "  geneSymbol      diseaseName  score_hpo\n",
       "0     CYP7B1   acholic stools          1\n",
       "1     CYP7B1  hepatic failure          1\n",
       "2     CYP7B1      steatorrhea          1\n",
       "3     CYP7B1         pruritus          1\n",
       "4     CYP7B1     hepatomegaly          1"
      ]
     },
     "execution_count": 52,
     "metadata": {},
     "output_type": "execute_result"
    }
   ],
   "source": [
    "dfhpo.columns=['geneSymbol','diseaseName','score_hpo']\n",
    "dfhpo['diseaseName']=dfhpo['diseaseName'].str.lower()\n",
    "dfhpo.head()"
   ]
  },
  {
   "cell_type": "code",
   "execution_count": 53,
   "metadata": {
    "collapsed": false
   },
   "outputs": [
    {
     "data": {
      "text/html": [
       "<div>\n",
       "<table border=\"1\" class=\"dataframe\">\n",
       "  <thead>\n",
       "    <tr style=\"text-align: right;\">\n",
       "      <th></th>\n",
       "      <th>geneSymbol</th>\n",
       "      <th>diseaseName</th>\n",
       "      <th>score_conf</th>\n",
       "    </tr>\n",
       "  </thead>\n",
       "  <tbody>\n",
       "    <tr>\n",
       "      <th>0</th>\n",
       "      <td>7SK</td>\n",
       "      <td>human immunodeficiency virus infectious disease</td>\n",
       "      <td>1.5</td>\n",
       "    </tr>\n",
       "    <tr>\n",
       "      <th>1</th>\n",
       "      <td>7SK</td>\n",
       "      <td>acquired immunodeficiency syndrome</td>\n",
       "      <td>1.4</td>\n",
       "    </tr>\n",
       "    <tr>\n",
       "      <th>2</th>\n",
       "      <td>7SK</td>\n",
       "      <td>viral infectious disease</td>\n",
       "      <td>1.3</td>\n",
       "    </tr>\n",
       "    <tr>\n",
       "      <th>3</th>\n",
       "      <td>7SK</td>\n",
       "      <td>disease</td>\n",
       "      <td>1.2</td>\n",
       "    </tr>\n",
       "    <tr>\n",
       "      <th>4</th>\n",
       "      <td>7SK</td>\n",
       "      <td>disease by infectious agent</td>\n",
       "      <td>1.1</td>\n",
       "    </tr>\n",
       "  </tbody>\n",
       "</table>\n",
       "</div>"
      ],
      "text/plain": [
       "  geneSymbol                                      diseaseName  score_conf\n",
       "0        7SK  human immunodeficiency virus infectious disease         1.5\n",
       "1        7SK               acquired immunodeficiency syndrome         1.4\n",
       "2        7SK                         viral infectious disease         1.3\n",
       "3        7SK                                          disease         1.2\n",
       "4        7SK                      disease by infectious agent         1.1"
      ]
     },
     "execution_count": 53,
     "metadata": {},
     "output_type": "execute_result"
    }
   ],
   "source": [
    "dfmined.columns = ['geneSymbol','diseaseName','score_conf']\n",
    "dfmined['diseaseName']=dfmined['diseaseName'].str.lower()\n",
    "dfmined.head()"
   ]
  },
  {
   "cell_type": "code",
   "execution_count": null,
   "metadata": {
    "collapsed": false
   },
   "outputs": [],
   "source": [
    "# dfmined[dfmined.diseaseName=='canavan disease']"
   ]
  },
  {
   "cell_type": "code",
   "execution_count": 89,
   "metadata": {
    "collapsed": false
   },
   "outputs": [
    {
     "name": "stdout",
     "output_type": "stream",
     "text": [
      "(275, 8)\n"
     ]
    },
    {
     "data": {
      "text/html": [
       "<div>\n",
       "<table border=\"1\" class=\"dataframe\">\n",
       "  <thead>\n",
       "    <tr style=\"text-align: right;\">\n",
       "      <th></th>\n",
       "      <th>diseaseName</th>\n",
       "      <th>Number of genes</th>\n",
       "      <th>score</th>\n",
       "      <th>geneSymbol</th>\n",
       "      <th>geneName</th>\n",
       "      <th>relurl</th>\n",
       "      <th>category</th>\n",
       "      <th>score_hpo</th>\n",
       "    </tr>\n",
       "  </thead>\n",
       "  <tbody>\n",
       "    <tr>\n",
       "      <th>270</th>\n",
       "      <td>joubert syndrome 6</td>\n",
       "      <td>1</td>\n",
       "      <td>0.72</td>\n",
       "      <td>TMEM67</td>\n",
       "      <td>transmembrane protein 67</td>\n",
       "      <td>/condition/andersen-tawil-syndrome</td>\n",
       "      <td>Skin, hair, and nails</td>\n",
       "      <td>NaN</td>\n",
       "    </tr>\n",
       "    <tr>\n",
       "      <th>271</th>\n",
       "      <td>charcot-marie-tooth disease, type 2b1</td>\n",
       "      <td>1</td>\n",
       "      <td>0.72</td>\n",
       "      <td>LMNA</td>\n",
       "      <td>lamin A/C</td>\n",
       "      <td>/condition/charcot-marie-tooth-disease</td>\n",
       "      <td>Bones, muscles, and connective tissues</td>\n",
       "      <td>NaN</td>\n",
       "    </tr>\n",
       "    <tr>\n",
       "      <th>272</th>\n",
       "      <td>deafness, autosomal dominant 25</td>\n",
       "      <td>2</td>\n",
       "      <td>0.72</td>\n",
       "      <td>SLC17A8</td>\n",
       "      <td>solute carrier family 17 (vesicular glutamate ...</td>\n",
       "      <td>/condition/22q112-deletion-syndrome</td>\n",
       "      <td>Ear, nose, and throat</td>\n",
       "      <td>NaN</td>\n",
       "    </tr>\n",
       "    <tr>\n",
       "      <th>273</th>\n",
       "      <td>usher syndrome, type ig</td>\n",
       "      <td>2</td>\n",
       "      <td>0.72</td>\n",
       "      <td>USH1G</td>\n",
       "      <td>Usher syndrome 1G (autosomal recessive)</td>\n",
       "      <td>/condition/pol-iii-related-leukodystrophy</td>\n",
       "      <td>Kidneys and urinary system</td>\n",
       "      <td>NaN</td>\n",
       "    </tr>\n",
       "    <tr>\n",
       "      <th>274</th>\n",
       "      <td>muscular dystrophy-dystroglycanopathy (congeni...</td>\n",
       "      <td>1</td>\n",
       "      <td>0.72</td>\n",
       "      <td>LARGE</td>\n",
       "      <td>like-glycosyltransferase</td>\n",
       "      <td>/condition/doors-syndrome</td>\n",
       "      <td>Bones, muscles, and connective tissues</td>\n",
       "      <td>NaN</td>\n",
       "    </tr>\n",
       "  </tbody>\n",
       "</table>\n",
       "</div>"
      ],
      "text/plain": [
       "                                           diseaseName  Number of genes  \\\n",
       "270                                 joubert syndrome 6                1   \n",
       "271              charcot-marie-tooth disease, type 2b1                1   \n",
       "272                    deafness, autosomal dominant 25                2   \n",
       "273                            usher syndrome, type ig                2   \n",
       "274  muscular dystrophy-dystroglycanopathy (congeni...                1   \n",
       "\n",
       "     score geneSymbol                                           geneName  \\\n",
       "270   0.72     TMEM67                           transmembrane protein 67   \n",
       "271   0.72       LMNA                                          lamin A/C   \n",
       "272   0.72    SLC17A8  solute carrier family 17 (vesicular glutamate ...   \n",
       "273   0.72      USH1G            Usher syndrome 1G (autosomal recessive)   \n",
       "274   0.72      LARGE                           like-glycosyltransferase   \n",
       "\n",
       "                                        relurl  \\\n",
       "270         /condition/andersen-tawil-syndrome   \n",
       "271     /condition/charcot-marie-tooth-disease   \n",
       "272        /condition/22q112-deletion-syndrome   \n",
       "273  /condition/pol-iii-related-leukodystrophy   \n",
       "274                  /condition/doors-syndrome   \n",
       "\n",
       "                                   category  score_hpo  \n",
       "270                   Skin, hair, and nails        NaN  \n",
       "271  Bones, muscles, and connective tissues        NaN  \n",
       "272                   Ear, nose, and throat        NaN  \n",
       "273              Kidneys and urinary system        NaN  \n",
       "274  Bones, muscles, and connective tissues        NaN  "
      ]
     },
     "execution_count": 89,
     "metadata": {},
     "output_type": "execute_result"
    }
   ],
   "source": [
    "dfsavedhpo = pd.merge(dfsaved,dfhpo,how='left',on=['diseaseName','geneSymbol'], \n",
    "                      suffixes=['','_hpo'])\n",
    "print(dfsavedhpo.shape)\n",
    "dfsavedhpo.tail()"
   ]
  },
  {
   "cell_type": "code",
   "execution_count": 90,
   "metadata": {
    "collapsed": false
   },
   "outputs": [],
   "source": [
    "# dfthree = pd.merge(dfsavedhpo,dfmined,how='left',on='diseaseName',suffixes=['','_mined'])\n",
    "# dfthree = pd.merge(dfsavedhpo,dfmined,how='left',on='geneSymbol',suffixes=['','_mined'])"
   ]
  },
  {
   "cell_type": "code",
   "execution_count": null,
   "metadata": {
    "collapsed": false,
    "scrolled": true
   },
   "outputs": [],
   "source": [
    "print(dfthree.shape)\n",
    "dfthree.tail()\n",
    "# dfsame = dfthree[dfthree.geneSymbol_mined.notnull()]\n",
    "# print(dfsame.shape)\n",
    "# dfsame.head()"
   ]
  },
  {
   "cell_type": "code",
   "execution_count": 123,
   "metadata": {
    "collapsed": false
   },
   "outputs": [],
   "source": [
    "dfthree = pd.merge(dfsavedhpo,dfmined,how='left',on=['diseaseName','geneSymbol'], suffixes=['','_mined'])\n",
    "dfthree['score_dgn']=dfthree['score']\n",
    "dfthree.drop('score',axis=1,inplace=True)\n",
    "dfthree[['score_dgn','score_hpo','score_conf']] = dfthree[['score_dgn','score_hpo', \n",
    "                                                           'score_conf']].fillna(0.0, axis=1)\n",
    "dfthree['score_total']=dfthree['score_dgn']*0.8+dfthree['score_hpo']*0.1+dfthree['score_conf']*0.25*0.1"
   ]
  },
  {
   "cell_type": "code",
   "execution_count": null,
   "metadata": {
    "collapsed": false,
    "scrolled": true
   },
   "outputs": [],
   "source": [
    "dfthree.head()"
   ]
  },
  {
   "cell_type": "markdown",
   "metadata": {},
   "source": [
    "___\n",
    "# Update obvious categories"
   ]
  },
  {
   "cell_type": "code",
   "execution_count": 34,
   "metadata": {
    "collapsed": false
   },
   "outputs": [],
   "source": [
    "import pandas as pd\n",
    "dfthree = pd.read_csv('ThreeGDA.tsv',sep='\\t')"
   ]
  },
  {
   "cell_type": "code",
   "execution_count": 35,
   "metadata": {
    "collapsed": false
   },
   "outputs": [
    {
     "name": "stderr",
     "output_type": "stream",
     "text": [
      "/Library/Frameworks/Python.framework/Versions/3.4/lib/python3.4/site-packages/ipykernel/__main__.py:20: SettingWithCopyWarning: \n",
      "A value is trying to be set on a copy of a slice from a DataFrame\n",
      "\n",
      "See the caveats in the documentation: http://pandas.pydata.org/pandas-docs/stable/indexing.html#indexing-view-versus-copy\n"
     ]
    }
   ],
   "source": [
    "# Fill in obvious categories\n",
    "dfalias = pd.read_csv('ConditionAliasAddtl.csv')\n",
    "\n",
    "# Dictionary of categories and keywords\n",
    "catdict = {}\n",
    "catkeys = ['blood','bone','brain','cancer','digest','ent','endocrine','eye',\n",
    "           'metabolism','heart','immune','kidney','lung','mental','mouth','reproductive','skin']\n",
    "catvals = sorted(dfalias['Category'].unique())\n",
    "\n",
    "catdict = dict(zip(catkeys,catvals))\n",
    "\n",
    "idxs = ['cardi','neur','deaf','retin','musc','cataract','ventri','brain',\n",
    "        'osteo','diabetes','tooth','albin','arterial','bestrophinopathy','immun', \n",
    "       'sterol', 'glyco', 'dactyl','thyro','renal']\n",
    "newcats = ['heart','brain','ent','eye','bone','eye','heart','brain','bone',\n",
    "           'metabolism','mouth','skin','heart','eye','immune', \n",
    "          'metabolism', 'metabolism', 'bone', 'endocrine','kidney']\n",
    "for idx,newcat in zip(idxs,newcats):\n",
    "    mask = dfthree['diseaseName'].str.contains(idx)\n",
    "    dfthree['category'][mask] = catdict[newcat]"
   ]
  },
  {
   "cell_type": "code",
   "execution_count": 36,
   "metadata": {
    "collapsed": true
   },
   "outputs": [],
   "source": [
    "dfthree.to_csv('ThreeGDA.tsv',sep='\\t',index=False)\n",
    "dfthree.to_csv('../genediseaselink-web/ThreeGDA.tsv',sep='\\t',index=False)"
   ]
  },
  {
   "cell_type": "code",
   "execution_count": 1,
   "metadata": {
    "collapsed": true
   },
   "outputs": [],
   "source": [
    "# Create disease keyword dictionary\n",
    "\n",
    "disease_dict = {'digest': 'Digestive system', 'cancer': 'Cancers', 'skin': 'Skin, hair, and nails', 'heart': 'Heart and circulation', 'bone': 'Bones, muscles, and connective tissues', 'lung': 'Lungs and breathing', 'endocrine': 'Endocrine system (hormones)', 'brain': 'Brain and nervous system', 'reproductive': 'Reproductive system', 'kidney': 'Kidneys and urinary system', 'immune': 'Immune system', 'mouth': 'Mouth and teeth', 'metabolism': 'Food, nutrition, and metabolism', 'ent': 'Ear, nose, and throat', 'blood': 'Blood/lymphatic system', 'mental': 'Mental health and behavior', 'eye': 'Eyes and vision'}\n",
    "dislist = disease_dict.items()"
   ]
  },
  {
   "cell_type": "code",
   "execution_count": 4,
   "metadata": {
    "collapsed": false
   },
   "outputs": [
    {
     "name": "stdout",
     "output_type": "stream",
     "text": [
      "blood Blood/lymphatic system\n",
      "bone Bones, muscles, and connective tissues\n",
      "brain Brain and nervous system\n",
      "cancer Cancers\n",
      "digest Digestive system\n",
      "ent Ear, nose, and throat\n",
      "endocrine Endocrine system (hormones)\n",
      "eye Eyes and vision\n",
      "metabolism Food, nutrition, and metabolism\n",
      "heart Heart and circulation\n",
      "immune Immune system\n",
      "kidney Kidneys and urinary system\n",
      "lung Lungs and breathing\n",
      "mental Mental health and behavior\n",
      "mouth Mouth and teeth\n",
      "reproductive Reproductive system\n",
      "skin Skin, hair, and nails\n"
     ]
    }
   ],
   "source": [
    "import operator\n",
    "\n",
    "dissort = sorted(disease_dict.items(), key=operator.itemgetter(1))\n",
    "\n",
    "for dis in dissort:\n",
    "    print(dis[0],dis[1])"
   ]
  },
  {
   "cell_type": "code",
   "execution_count": 27,
   "metadata": {
    "collapsed": false
   },
   "outputs": [
    {
     "name": "stdout",
     "output_type": "stream",
     "text": [
      "February 2, 2016\n"
     ]
    }
   ],
   "source": [
    "import os\n",
    "import datetime\n",
    "t = os.path.getmtime('../genediseaselink-web/app.py')\n",
    "updated = '{modt:%B} {modt.day}, {modt:%Y}'.format(modt=datetime.date.fromtimestamp(t))\n",
    "print(updated)"
   ]
  },
  {
   "cell_type": "code",
   "execution_count": null,
   "metadata": {
    "collapsed": true
   },
   "outputs": [],
   "source": []
  }
 ],
 "metadata": {
  "kernelspec": {
   "display_name": "Python 3",
   "language": "python",
   "name": "python3"
  },
  "language_info": {
   "codemirror_mode": {
    "name": "ipython",
    "version": 3
   },
   "file_extension": ".py",
   "mimetype": "text/x-python",
   "name": "python",
   "nbconvert_exporter": "python",
   "pygments_lexer": "ipython3",
   "version": "3.4.3"
  }
 },
 "nbformat": 4,
 "nbformat_minor": 0
}
