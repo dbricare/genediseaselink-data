{
 "cells": [
  {
   "cell_type": "markdown",
   "metadata": {},
   "source": [
    "# Supplemental\n",
    "\n",
    "### List of databases and relevant links\n",
    "\n",
    "\n",
    "https://en.wikipedia.org/wiki/Gene_Disease_Database\n",
    "\n",
    "https://en.wikipedia.org/wiki/List_of_biological_databases\n",
    "\n",
    "http://info-centre.jenage.de/ageing/databases.html\n",
    "\n",
    "http://vega.sanger.ac.uk/Homo_sapiens/Info/Index\n",
    "\n",
    "http://geneticassociationdb.nih.gov/ \n",
    "\n",
    "https://www.genecards.org/cgi-bin/listdiseasecards.pl\n",
    "\n",
    "http://www.omim.org/\n",
    "\n",
    "http://www.hgmd.cf.ac.uk/ac/index.php\n",
    "\n",
    "http://www.biobase-international.com/product/hgmd\n",
    "\n",
    "http://cancer.sanger.ac.uk/cosmic\n",
    "\n",
    "http://disgenet.org\n",
    "\n",
    "http://www.gwascentral.org/index\n",
    "\n",
    "http://grenada.lumc.nl/LSDB_list/lsdbs\n",
    "\n",
    "http://research.nhgri.nih.gov/bic/\n",
    "\n",
    "http://globin.cse.psu.edu/hbvar/menu.html\n",
    "\n",
    "http://www.malacards.org/\n",
    "\n",
    "https://www.sanger.ac.uk/resources/databases/http://www.dmd.nl/\n",
    "\n",
    "http://mgdd.pasteur.ma/\n",
    "\n",
    "http://www.cdc.gov/genomics/hugenet/collabOrg.htmhttp://www.ucl.ac.uk/ncl/mutation.shtml\n",
    "\n",
    "http://chromium.lovd.nl/lovd_sdh/home.php\n",
    "\n",
    "http://www.mitomap.org/MITOMAP\n",
    "\n",
    "http://hgdownload.cse.ucsc.edu/goldenPath/hg38/bigZips/"
   ]
  },
  {
   "cell_type": "code",
   "execution_count": null,
   "metadata": {
    "collapsed": true
   },
   "outputs": [],
   "source": []
  }
 ],
 "metadata": {
  "kernelspec": {
   "display_name": "Python 3",
   "language": "python",
   "name": "python3"
  },
  "language_info": {
   "codemirror_mode": {
    "name": "ipython",
    "version": 3
   },
   "file_extension": ".py",
   "mimetype": "text/x-python",
   "name": "python",
   "nbconvert_exporter": "python",
   "pygments_lexer": "ipython3",
   "version": "3.4.3"
  }
 },
 "nbformat": 4,
 "nbformat_minor": 0
}
